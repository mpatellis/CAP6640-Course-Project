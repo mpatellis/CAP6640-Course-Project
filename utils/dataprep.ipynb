{
 "metadata": {
  "language_info": {
   "codemirror_mode": {
    "name": "ipython",
    "version": 3
   },
   "file_extension": ".py",
   "mimetype": "text/x-python",
   "name": "python",
   "nbconvert_exporter": "python",
   "pygments_lexer": "ipython3",
   "version": "3.9.2-final"
  },
  "orig_nbformat": 2,
  "kernelspec": {
   "name": "python3",
   "display_name": "Python 3.9.2 64-bit",
   "metadata": {
    "interpreter": {
     "hash": "7ebbd28c961fa572a3aa38e2c2fe83d50301aa938a9935508584a4f8daf2b69d"
    }
   }
  }
 },
 "nbformat": 4,
 "nbformat_minor": 2,
 "cells": [
  {
   "cell_type": "code",
   "execution_count": 153,
   "metadata": {},
   "outputs": [],
   "source": [
    "# Utilities\n",
    "import pandas as pd    \n",
    "import numpy as np \n",
    "import string\n",
    "import re"
   ]
  },
  {
   "cell_type": "code",
   "execution_count": 154,
   "metadata": {},
   "outputs": [],
   "source": [
    "# This is where your jsonToCsv file will come in\n",
    "# A single dataframe represents 1 hour of 1 day and can range from 30-70k tweets\n",
    "df = pd.read_json('test.jsonl.gz', lines=True, compression='gzip')      "
   ]
  },
  {
   "cell_type": "code",
   "execution_count": 155,
   "metadata": {},
   "outputs": [],
   "source": [
    "# Filter tweets so that they include Trump\n",
    "df_filtered = df.loc[df['full_text'].str.contains(r\"(trump|donald|donaldtrump)\",  re.IGNORECASE)]"
   ]
  },
  {
   "cell_type": "code",
   "execution_count": 156,
   "metadata": {},
   "outputs": [],
   "source": [
    "# Feature extract hashtags from tweet \n",
    "df_filtered['hashtag'] = df_filtered['full_text'].apply(lambda x: re.findall(r\"#(\\w+)\", x))"
   ]
  },
  {
   "cell_type": "code",
   "execution_count": 157,
   "metadata": {},
   "outputs": [],
   "source": [
    "# https://pypi.org/project/tweet-preprocessor/\n",
    "# !pip install tweet-preprocessor\n",
    "# Cleans tweets of URLs, mentions, reserved words (RT, FAV), Emokis, Smileys\n",
    "import preprocessor as p"
   ]
  },
  {
   "cell_type": "code",
   "execution_count": 158,
   "metadata": {
    "tags": []
   },
   "outputs": [
    {
     "output_type": "stream",
     "name": "stderr",
     "text": [
      "[nltk_data] Downloading package wordnet to\n[nltk_data]     C:\\Users\\jorda\\AppData\\Roaming\\nltk_data...\n[nltk_data]   Package wordnet is already up-to-date!\n[nltk_data] Downloading package stopwords to\n[nltk_data]     C:\\Users\\jorda\\AppData\\Roaming\\nltk_data...\n[nltk_data]   Package stopwords is already up-to-date!\n"
     ]
    }
   ],
   "source": [
    "# Important libraries for preprocessing using NLTK\n",
    "# For lemmatization and tokenization\n",
    "# !pip install nltk\n",
    "import nltk\n",
    "from nltk import word_tokenize, FreqDist\n",
    "from nltk.corpus import stopwords\n",
    "from nltk.stem import WordNetLemmatizer\n",
    "nltk.download\n",
    "nltk.download('wordnet')\n",
    "nltk.download('stopwords')\n",
    "from nltk.tokenize import TweetTokenizer"
   ]
  },
  {
   "cell_type": "code",
   "execution_count": 159,
   "metadata": {},
   "outputs": [],
   "source": [
    "# Apply clean function form tweet-preprocessing,\n",
    "# then remove Digits, lower the text, \n",
    "# remove punctuation and remove extra whitespace \n",
    "def preprocessing(row):\n",
    "    text = row['full_text']\n",
    "    text = p.clean(text)\n",
    "    nodigit_text = text.replace('\\d+', '')\n",
    "    lower_text = nodigit_text.lower()\n",
    "    cleaned_text = lower_text.replace('[^\\w\\s]',' ').replace('\\s\\s+', ' ')\n",
    "    remove_punct_text = re.sub(r'[^\\w\\s]','', cleaned_text) # Need to further test this, not working atm\n",
    "    return cleaned_text"
   ]
  },
  {
   "cell_type": "code",
   "execution_count": 160,
   "metadata": {},
   "outputs": [],
   "source": [
    "df_filtered['cleaned_tweet'] = df_filtered.apply(preprocessing, axis=1)"
   ]
  },
  {
   "cell_type": "code",
   "execution_count": 161,
   "metadata": {},
   "outputs": [
    {
     "output_type": "execute_result",
     "data": {
      "text/plain": [
       "105      you will get the votes from trumpublican trait...\n",
       "170      : newspaper endorsements:ia: quad city times i...\n",
       "190      they still need closing arguments and delibera...\n",
       "265                                                       \n",
       "385      we cut back on education funds which lead to b...\n",
       "                               ...                        \n",
       "35528                                                     \n",
       "35574                : mcconnell just called to coordinate\n",
       "35686    : *its one day after impeachment*me: hey siri,...\n",
       "35697    options arent facts. wouldnt expect a trump su...\n",
       "35937        refuses to call votes. talk about do nothing.\n",
       "Name: cleaned_tweet, Length: 400, dtype: object"
      ]
     },
     "metadata": {},
     "execution_count": 161
    }
   ],
   "source": [
    "df_filtered['cleaned_tweet']"
   ]
  },
  {
   "cell_type": "code",
   "execution_count": 148,
   "metadata": {},
   "outputs": [],
   "source": [
    "def remove_stopwords(word_list):\n",
    "    return [word for word in word_list if word not in stopwords.words('english')]"
   ]
  },
  {
   "cell_type": "code",
   "execution_count": 149,
   "metadata": {},
   "outputs": [],
   "source": [
    " df_filtered['cleaned_tweet'] = df_filtered['cleaned_tweet'].apply(remove_stopwords)"
   ]
  },
  {
   "cell_type": "code",
   "execution_count": 162,
   "metadata": {},
   "outputs": [],
   "source": [
    "lemmatizer = nltk.stem.WordNetLemmatizer()\n",
    "w_tokenizer = TweetTokenizer()\n",
    "\n",
    "def lemmatize_text(text):\n",
    "    return [(lemmatizer.lemmatize(w)) for w in w_tokenizer.tokenize((text))]"
   ]
  },
  {
   "cell_type": "code",
   "execution_count": 163,
   "metadata": {},
   "outputs": [],
   "source": [
    " df_filtered['lemm_tweet'] = df_filtered['cleaned_tweet'].apply(lemmatize_text)"
   ]
  }
 ]
}