{
 "cells": [
  {
   "cell_type": "code",
   "execution_count": 21,
   "metadata": {},
   "outputs": [],
   "source": [
    "# import findspark\n",
    "# findspark.init('/opt/spark')\n",
    "\n",
    "# import os\n",
    "# from dotenv import load_dotenv\n",
    "# load_dotenv('../.env')\n",
    "# access = os.environ.get('AWS_ACCESS')\n",
    "# secret = os.environ.get('AWS_SECRET')"
   ]
  },
  {
   "cell_type": "code",
   "execution_count": 1,
   "metadata": {},
   "outputs": [
    {
     "data": {
      "application/vnd.jupyter.widget-view+json": {
       "model_id": "54f3193ef06a48c58f73a83af4434a0d",
       "version_major": 2,
       "version_minor": 0
      },
      "text/plain": [
       "VBox()"
      ]
     },
     "metadata": {},
     "output_type": "display_data"
    },
    {
     "name": "stdout",
     "output_type": "stream",
     "text": [
      "Starting Spark application\n"
     ]
    },
    {
     "data": {
      "text/html": [
       "<table>\n",
       "<tr><th>ID</th><th>YARN Application ID</th><th>Kind</th><th>State</th><th>Spark UI</th><th>Driver log</th><th>Current session?</th></tr><tr><td>0</td><td>application_1619723587027_0002</td><td>pyspark</td><td>idle</td><td><a target=\"_blank\" href=\"http://ip-172-31-66-178.ec2.internal:20888/proxy/application_1619723587027_0002/\" >Link</a></td><td><a target=\"_blank\" href=\"http://ip-172-31-66-63.ec2.internal:8042/node/containerlogs/container_1619723587027_0002_01_000001/livy\" >Link</a></td><td>✔</td></tr></table>"
      ],
      "text/plain": [
       "<IPython.core.display.HTML object>"
      ]
     },
     "metadata": {},
     "output_type": "display_data"
    },
    {
     "data": {
      "application/vnd.jupyter.widget-view+json": {
       "model_id": "",
       "version_major": 2,
       "version_minor": 0
      },
      "text/plain": [
       "FloatProgress(value=0.0, bar_style='info', description='Progress:', layout=Layout(height='25px', width='50%'),…"
      ]
     },
     "metadata": {},
     "output_type": "display_data"
    },
    {
     "name": "stdout",
     "output_type": "stream",
     "text": [
      "SparkSession available as 'spark'.\n"
     ]
    },
    {
     "data": {
      "application/vnd.jupyter.widget-view+json": {
       "model_id": "",
       "version_major": 2,
       "version_minor": 0
      },
      "text/plain": [
       "FloatProgress(value=0.0, bar_style='info', description='Progress:', layout=Layout(height='25px', width='50%'),…"
      ]
     },
     "metadata": {},
     "output_type": "display_data"
    }
   ],
   "source": [
    "from pyspark.sql import SparkSession\n",
    "from pyspark import SparkConf\n",
    "from pyspark.sql import Row\n",
    "from pyspark.sql.types import ArrayType, StringType, TimestampType, DateType, StructType, DoubleType, IntegerType, FloatType\n",
    "from pyspark.sql import functions as f\n",
    "\n",
    "from pyspark.ml.functions import vector_to_array\n",
    "from pyspark.ml.clustering import LDA, LDAModel\n",
    "from pyspark.mllib.linalg import Vector, Vectors\n",
    "from pyspark.ml.feature import CountVectorizer, IDF, StopWordsRemover\n",
    "from pyspark.ml import Pipeline, PipelineModel\n",
    "\n",
    "conf = SparkConf() \\\n",
    "    .set(\"fs.s3a.awsAccessKeyId\", access) \\\n",
    "    .set(\"fs.s3a.awsSecretAccessKey\", secret) \\\n",
    "    .set(\"fs.s3a.endpoint\", \"s3.us-east-1.amazonaws.com\") \\\n",
    "    .set(\"fs.s3a.impl\", \"org.apache.hadoop.fs.s3a.S3AFileSystem\") \\\n",
    "    .set(\"fs.s3a.impl\",\"org.apache.hadoop.fs.s3native.NativeS3FileSystem\") \\\n",
    "    .set(\"com.amazonaws.services.s3.enableV4\", \"true\")\n",
    "\n",
    "spark = SparkSession.builder.appName('LDA').config(conf=conf).getOrCreate()"
   ]
  },
  {
   "cell_type": "code",
   "execution_count": 74,
   "metadata": {},
   "outputs": [
    {
     "data": {
      "application/vnd.jupyter.widget-view+json": {
       "model_id": "ec46c16600b247da8a4f00a501f74150",
       "version_major": 2,
       "version_minor": 0
      },
      "text/plain": [
       "VBox()"
      ]
     },
     "metadata": {},
     "output_type": "display_data"
    },
    {
     "data": {
      "application/vnd.jupyter.widget-view+json": {
       "model_id": "",
       "version_major": 2,
       "version_minor": 0
      },
      "text/plain": [
       "FloatProgress(value=0.0, bar_style='info', description='Progress:', layout=Layout(height='25px', width='50%'),…"
      ]
     },
     "metadata": {},
     "output_type": "display_data"
    },
    {
     "name": "stdout",
     "output_type": "stream",
     "text": [
      "+-------------------+--------------------+--------------------+--------------------+---------------+-------------------+\n",
      "|                 id|           full_text|          clean_text|           sentiment|sentiment_class|           datetime|\n",
      "+-------------------+--------------------+--------------------+--------------------+---------------+-------------------+\n",
      "|1316679802288513027|@realDonaldTrump ...|[yeah, read, one,...| [0.155, 0.0, 0.845]|              1|2020-10-15 09:58:22|\n",
      "|1312125637600010240|Remember how nice...|[remember, nice, ...|[0.351, 0.263, 0....|              1|2020-10-02 20:21:44|\n",
      "|1321059480394747905|You're insane.  P...|[insane, presiden...|[0.318, 0.233, 0.45]|              1|2020-10-27 12:01:38|\n",
      "|1317133069783097345|@RepMattGaetz @re...|[democrat, protec...|[0.497, 0.081, 0....|              1|2020-10-16 15:59:29|\n",
      "|1312853349126021128|It fuck up how pe...|[fuck, people, ce...|[0.35, 0.324, 0.327]|              1|2020-10-04 20:33:24|\n",
      "+-------------------+--------------------+--------------------+--------------------+---------------+-------------------+\n",
      "only showing top 5 rows"
     ]
    }
   ],
   "source": [
    "files = []\n",
    "df = spark.read.parquet(files).drop('geo', 'coordinates', 'place', 'retweet_count', 'favorite_count')\n",
    "df = df.withColumn('datetime', df['created_at'].cast(TimestampType())).drop('created_at')\n",
    "df.show(5)"
   ]
  },
  {
   "cell_type": "code",
   "execution_count": 75,
   "metadata": {},
   "outputs": [
    {
     "data": {
      "application/vnd.jupyter.widget-view+json": {
       "model_id": "0646699c1aaf446d8660c2f7c3d2faec",
       "version_major": 2,
       "version_minor": 0
      },
      "text/plain": [
       "VBox()"
      ]
     },
     "metadata": {},
     "output_type": "display_data"
    },
    {
     "data": {
      "application/vnd.jupyter.widget-view+json": {
       "model_id": "",
       "version_major": 2,
       "version_minor": 0
      },
      "text/plain": [
       "FloatProgress(value=0.0, bar_style='info', description='Progress:', layout=Layout(height='25px', width='50%'),…"
      ]
     },
     "metadata": {},
     "output_type": "display_data"
    }
   ],
   "source": [
    "temp = df.drop('id','full_text','hashtags','datetime') \\\n",
    "         .withColumn('word', f.explode('clean_text')) \\\n",
    "         .groupBy('word') \\\n",
    "         .count() \\\n",
    "         .sort('count', ascending=False)\n",
    "\n",
    "remove_list = temp.drop('count').limit(25).collect()\n",
    "to_remove = []\n",
    "for row in remove_list:\n",
    "    to_remove.append(row['word'])\n",
    "to_remove = to_remove + ['let', 'cant', 'lol', 'way', 'also', 'for', 'and', 'nor', 'but', 'or', 'yet', 'so','give','come', '+', 'still', 'hear', 'already', 'feel', 'really', 'long', 'without', 'ask', 'via', \n",
    "                         'oh', 'please', 'seriously', 'that','every', 'must', 'stay', 'put', 'keep', 'ever', 'fit', 'gonna', 'theyre', 'anyone', 'thing', 'wow', 'yeah', 'sure', 'use', 'actually', 'much', 'help',\n",
    "                        'everything', 'interest', 'remember', 'guess', 'there', 'tell', 'do', 'around', 'enough', 'question', 'speak', 'well', 'believe', 'become', 'call', 'look']"
   ]
  },
  {
   "cell_type": "code",
   "execution_count": 76,
   "metadata": {},
   "outputs": [
    {
     "data": {
      "application/vnd.jupyter.widget-view+json": {
       "model_id": "5fd440f103c74cf281b78b0b84bfc922",
       "version_major": 2,
       "version_minor": 0
      },
      "text/plain": [
       "VBox()"
      ]
     },
     "metadata": {},
     "output_type": "display_data"
    },
    {
     "data": {
      "application/vnd.jupyter.widget-view+json": {
       "model_id": "",
       "version_major": 2,
       "version_minor": 0
      },
      "text/plain": [
       "FloatProgress(value=0.0, bar_style='info', description='Progress:', layout=Layout(height='25px', width='50%'),…"
      ]
     },
     "metadata": {},
     "output_type": "display_data"
    }
   ],
   "source": [
    "rm_freq_words = StopWordsRemover(inputCol='clean_text', outputCol='clean_rm_frequent', stopWords=to_remove)\n",
    "cv = CountVectorizer(inputCol='clean_rm_frequent', outputCol='raw_features', vocabSize=5000, minDF=5)\n",
    "idf = IDF(inputCol=\"raw_features\", outputCol=\"features\")\n",
    "lda = LDA(k=6, maxIter=400, topicConcentration=.04, docConcentration=[.05], optimizer='online')\n",
    "\n",
    "pipeline = Pipeline(stages=[rm_freq_words, cv, idf, lda])"
   ]
  },
  {
   "cell_type": "code",
   "execution_count": 77,
   "metadata": {},
   "outputs": [
    {
     "data": {
      "application/vnd.jupyter.widget-view+json": {
       "model_id": "4b237bedf21f45cb839a3314b59f1184",
       "version_major": 2,
       "version_minor": 0
      },
      "text/plain": [
       "VBox()"
      ]
     },
     "metadata": {},
     "output_type": "display_data"
    },
    {
     "data": {
      "application/vnd.jupyter.widget-view+json": {
       "model_id": "",
       "version_major": 2,
       "version_minor": 0
      },
      "text/plain": [
       "FloatProgress(value=0.0, bar_style='info', description='Progress:', layout=Layout(height='25px', width='50%'),…"
      ]
     },
     "metadata": {},
     "output_type": "display_data"
    }
   ],
   "source": [
    "model = pipeline.fit(df)"
   ]
  },
  {
   "cell_type": "code",
   "execution_count": 78,
   "metadata": {},
   "outputs": [
    {
     "data": {
      "application/vnd.jupyter.widget-view+json": {
       "model_id": "77d31ed1c15443088873b5eb03ef1ef8",
       "version_major": 2,
       "version_minor": 0
      },
      "text/plain": [
       "VBox()"
      ]
     },
     "metadata": {},
     "output_type": "display_data"
    },
    {
     "data": {
      "application/vnd.jupyter.widget-view+json": {
       "model_id": "",
       "version_major": 2,
       "version_minor": 0
      },
      "text/plain": [
       "FloatProgress(value=0.0, bar_style='info', description='Progress:', layout=Layout(height='25px', width='50%'),…"
      ]
     },
     "metadata": {},
     "output_type": "display_data"
    },
    {
     "name": "stdout",
     "output_type": "stream",
     "text": [
      "+------------------------------------------------------------------------------------+\n",
      "|word                                                                                |\n",
      "+------------------------------------------------------------------------------------+\n",
      "|[state, america, god, ballot, bless, stand, last, country, act, lead]               |\n",
      "|[plan, health, care, maga, security, social, world, try, life, part]                |\n",
      "|[party, everyone, another, wish, never, bad, republican, twitter, conservative, try]|\n",
      "|[house, tax, peace, mask, else, white, wear, today, rich, break]                    |\n",
      "|[man, woman, black, court, word, wrong, support, supreme, donald, voter]            |\n",
      "|[news, debate, test, first, covid, positive, funny, new, virus, even]               |\n",
      "+------------------------------------------------------------------------------------+"
     ]
    }
   ],
   "source": [
    "topics = model.stages[-1].describeTopics(maxTermsPerTopic=9)\n",
    "vocabArray = model.stages[1].vocabulary\n",
    "\n",
    "def covertToWord(indices):\n",
    "    result = []\n",
    "    for i in indices:\n",
    "        result.append(vocabArray[i])\n",
    "    return result\n",
    "\n",
    "udf_convertToWord = f.udf(covertToWord, ArrayType(StringType()))\n",
    "topics = topics.withColumn('word', udf_convertToWord('termIndices'))\n",
    "topics.select('word').show(truncate=False)"
   ]
  },
  {
   "cell_type": "code",
   "execution_count": 79,
   "metadata": {},
   "outputs": [
    {
     "data": {
      "application/vnd.jupyter.widget-view+json": {
       "model_id": "b12ca3d02b07417b9416f3089010b766",
       "version_major": 2,
       "version_minor": 0
      },
      "text/plain": [
       "VBox()"
      ]
     },
     "metadata": {},
     "output_type": "display_data"
    },
    {
     "data": {
      "application/vnd.jupyter.widget-view+json": {
       "model_id": "",
       "version_major": 2,
       "version_minor": 0
      },
      "text/plain": [
       "FloatProgress(value=0.0, bar_style='info', description='Progress:', layout=Layout(height='25px', width='50%'),…"
      ]
     },
     "metadata": {},
     "output_type": "display_data"
    },
    {
     "name": "stdout",
     "output_type": "stream",
     "text": [
      "1890"
     ]
    }
   ],
   "source": [
    "len(vocabArray)"
   ]
  },
  {
   "cell_type": "code",
   "execution_count": 80,
   "metadata": {},
   "outputs": [
    {
     "data": {
      "application/vnd.jupyter.widget-view+json": {
       "model_id": "3ddc999264e644249261fe61502f612d",
       "version_major": 2,
       "version_minor": 0
      },
      "text/plain": [
       "VBox()"
      ]
     },
     "metadata": {},
     "output_type": "display_data"
    },
    {
     "data": {
      "application/vnd.jupyter.widget-view+json": {
       "model_id": "",
       "version_major": 2,
       "version_minor": 0
      },
      "text/plain": [
       "FloatProgress(value=0.0, bar_style='info', description='Progress:', layout=Layout(height='25px', width='50%'),…"
      ]
     },
     "metadata": {},
     "output_type": "display_data"
    },
    {
     "name": "stdout",
     "output_type": "stream",
     "text": [
      "+-------------------+--------------------+--------------------+--------------------+---------------+-------------------+--------------------+\n",
      "|                 id|           full_text|          clean_text|           sentiment|sentiment_class|           datetime|   topicDistribution|\n",
      "+-------------------+--------------------+--------------------+--------------------+---------------+-------------------+--------------------+\n",
      "|1316679802288513027|@realDonaldTrump ...|[yeah, read, one,...| [0.155, 0.0, 0.845]|              1|2020-10-15 09:58:22|[0.47098284125424...|\n",
      "|1312125637600010240|Remember how nice...|[remember, nice, ...|[0.351, 0.263, 0....|              1|2020-10-02 20:21:44|[0.41687262796477...|\n",
      "|1321059480394747905|You're insane.  P...|[insane, presiden...|[0.318, 0.233, 0.45]|              1|2020-10-27 12:01:38|[0.08655836429115...|\n",
      "|1317133069783097345|@RepMattGaetz @re...|[democrat, protec...|[0.497, 0.081, 0....|              1|2020-10-16 15:59:29|[0.36164059912514...|\n",
      "|1312853349126021128|It fuck up how pe...|[fuck, people, ce...|[0.35, 0.324, 0.327]|              1|2020-10-04 20:33:24|[0.00240071850851...|\n",
      "+-------------------+--------------------+--------------------+--------------------+---------------+-------------------+--------------------+\n",
      "only showing top 5 rows"
     ]
    }
   ],
   "source": [
    "transformed = model.transform(df).drop('hashtags', 'clean_rm_frequent', 'raw_features', 'features')\n",
    "transformed.show(5)"
   ]
  },
  {
   "cell_type": "code",
   "execution_count": 81,
   "metadata": {},
   "outputs": [
    {
     "data": {
      "application/vnd.jupyter.widget-view+json": {
       "model_id": "4cdc28c352964e74845cf4f72b0e1f63",
       "version_major": 2,
       "version_minor": 0
      },
      "text/plain": [
       "VBox()"
      ]
     },
     "metadata": {},
     "output_type": "display_data"
    },
    {
     "data": {
      "application/vnd.jupyter.widget-view+json": {
       "model_id": "",
       "version_major": 2,
       "version_minor": 0
      },
      "text/plain": [
       "FloatProgress(value=0.0, bar_style='info', description='Progress:', layout=Layout(height='25px', width='50%'),…"
      ]
     },
     "metadata": {},
     "output_type": "display_data"
    }
   ],
   "source": [
    "max_index = f.udf(lambda x: x.tolist().index(max(x)), IntegerType())\n",
    "transformed = transformed.withColumn('topic_id', max_index('topicDistribution'))"
   ]
  },
  {
   "cell_type": "code",
   "execution_count": 82,
   "metadata": {},
   "outputs": [
    {
     "data": {
      "application/vnd.jupyter.widget-view+json": {
       "model_id": "4262485daa7842c896bcdeb55e65a656",
       "version_major": 2,
       "version_minor": 0
      },
      "text/plain": [
       "VBox()"
      ]
     },
     "metadata": {},
     "output_type": "display_data"
    },
    {
     "data": {
      "application/vnd.jupyter.widget-view+json": {
       "model_id": "",
       "version_major": 2,
       "version_minor": 0
      },
      "text/plain": [
       "FloatProgress(value=0.0, bar_style='info', description='Progress:', layout=Layout(height='25px', width='50%'),…"
      ]
     },
     "metadata": {},
     "output_type": "display_data"
    },
    {
     "name": "stdout",
     "output_type": "stream",
     "text": [
      "+-------------------+--------------------+--------------------+--------------------+---------------+-------------------+--------------------+--------+\n",
      "|                 id|           full_text|          clean_text|           sentiment|sentiment_class|           datetime|   topicDistribution|topic_id|\n",
      "+-------------------+--------------------+--------------------+--------------------+---------------+-------------------+--------------------+--------+\n",
      "|1316679802288513027|@realDonaldTrump ...|[yeah, read, one,...| [0.155, 0.0, 0.845]|              1|2020-10-15 09:58:22|[0.47098284125424...|       0|\n",
      "|1312125637600010240|Remember how nice...|[remember, nice, ...|[0.351, 0.263, 0....|              1|2020-10-02 20:21:44|[0.41687262796477...|       0|\n",
      "|1321059480394747905|You're insane.  P...|[insane, presiden...|[0.318, 0.233, 0.45]|              1|2020-10-27 12:01:38|[0.08655836429115...|       4|\n",
      "|1317133069783097345|@RepMattGaetz @re...|[democrat, protec...|[0.497, 0.081, 0....|              1|2020-10-16 15:59:29|[0.36164059912514...|       2|\n",
      "|1312853349126021128|It fuck up how pe...|[fuck, people, ce...|[0.35, 0.324, 0.327]|              1|2020-10-04 20:33:24|[0.00240071850851...|       4|\n",
      "|1319562583926398977|@realDonaldTrump ...|[agree, need, dev...|[0.265, 0.116, 0....|              1|2020-10-23 08:53:30|[0.91909378710257...|       0|\n",
      "|1314215331515322368|Right-wing Rasmus...|[rightwing, rasmu...|[0.241, 0.106, 0....|              1|2020-10-08 14:45:26|[0.11440037443243...|       4|\n",
      "|1311530088727412736|@manavjivan @real...|[even, thing, rig...|[0.183, 0.133, 0....|              1|2020-10-01 04:55:14|[0.00263024516437...|       2|\n",
      "|1317819145925382144|Trump is already ...|[trump, already, ...| [0.327, 0.0, 0.673]|              1|2020-10-18 13:25:42|[0.00540817901930...|       5|\n",
      "|1312990349279678465|@amluke17 @Carrie...|[look, sweetie, b...| [0.278, 0.2, 0.522]|              1|2020-10-05 05:37:48|[0.00833499436703...|       2|\n",
      "|1318189925536206851|@atldukewife @CNN...|[theyre, pretty, ...|[0.396, 0.279, 0....|              1|2020-10-19 13:59:03|[0.00569973645484...|       5|\n",
      "|1315963184461885441|What’s the differ...|[what, difference...| [0.371, 0.0, 0.629]|              1|2020-10-13 10:30:47|[0.00419280870684...|       1|\n",
      "|1316480515436883969|So I discovered o...|[discover, obscur...| [0.161, 0.0, 0.839]|              1|2020-10-14 20:46:28|[0.29927679809492...|       5|\n",
      "|1316613354790678528|@name_withouta @S...|[earth, would, vo...| [0.262, 0.0, 0.738]|              1|2020-10-15 05:34:19|[0.00675973514437...|       4|\n",
      "|1320337485050892288|@IanDunt Lol, typ...|[lol, typically, ...|[0.387, 0.099, 0....|              1|2020-10-25 12:12:41|[0.00503072965971...|       1|\n",
      "|1313558902315741184|@padnandos1 @kriz...|[californian, sup...| [0.315, 0.0, 0.685]|              1|2020-10-06 19:17:01|[0.00400333307389...|       4|\n",
      "|1321559721711706112|@realDonaldTrump ...|[even, listen, re...| [0.388, 0.0, 0.612]|              1|2020-10-28 21:09:25|[0.25237311833724...|       1|\n",
      "|1321815763171352579|@SlayTheThings @a...|[act, high, might...|[0.375, 0.331, 0....|              1|2020-10-29 14:06:50|[0.24320005514034...|       5|\n",
      "|1319563574260473857|@AJStream thanks ...|[thank, feedback,...| [0.135, 0.0, 0.865]|              1|2020-10-23 08:57:27|[0.00402824493861...|       4|\n",
      "|1315135332459909121|@OnlineDetective ...|[great, quote, ba...| [0.451, 0.0, 0.549]|              1|2020-10-11 03:41:11|[0.00686339313842...|       4|\n",
      "+-------------------+--------------------+--------------------+--------------------+---------------+-------------------+--------------------+--------+\n",
      "only showing top 20 rows"
     ]
    }
   ],
   "source": [
    "transformed.show()"
   ]
  },
  {
   "cell_type": "code",
   "execution_count": 83,
   "metadata": {},
   "outputs": [
    {
     "data": {
      "application/vnd.jupyter.widget-view+json": {
       "model_id": "018fb5c49a4f429e81ad63878ce2e455",
       "version_major": 2,
       "version_minor": 0
      },
      "text/plain": [
       "VBox()"
      ]
     },
     "metadata": {},
     "output_type": "display_data"
    },
    {
     "data": {
      "application/vnd.jupyter.widget-view+json": {
       "model_id": "",
       "version_major": 2,
       "version_minor": 0
      },
      "text/plain": [
       "FloatProgress(value=0.0, bar_style='info', description='Progress:', layout=Layout(height='25px', width='50%'),…"
      ]
     },
     "metadata": {},
     "output_type": "display_data"
    }
   ],
   "source": [
    "def extractSentiment(row):\n",
    "    pos = row[0]\n",
    "    neg = row[1]\n",
    "    if pos > neg:\n",
    "        return pos\n",
    "    else:\n",
    "        return neg\n",
    "\n",
    "extractSentiment_udf = f.udf(extractSentiment, FloatType())"
   ]
  },
  {
   "cell_type": "code",
   "execution_count": 84,
   "metadata": {},
   "outputs": [
    {
     "data": {
      "application/vnd.jupyter.widget-view+json": {
       "model_id": "d8f2b3216bf2485c94729500adaf751a",
       "version_major": 2,
       "version_minor": 0
      },
      "text/plain": [
       "VBox()"
      ]
     },
     "metadata": {},
     "output_type": "display_data"
    },
    {
     "data": {
      "application/vnd.jupyter.widget-view+json": {
       "model_id": "",
       "version_major": 2,
       "version_minor": 0
      },
      "text/plain": [
       "FloatProgress(value=0.0, bar_style='info', description='Progress:', layout=Layout(height='25px', width='50%'),…"
      ]
     },
     "metadata": {},
     "output_type": "display_data"
    },
    {
     "name": "stdout",
     "output_type": "stream",
     "text": [
      "+-------------------+--------------------+--------------------+--------------------+---------------+-------------------+--------------------+--------+---------------+\n",
      "|                 id|           full_text|          clean_text|           sentiment|sentiment_class|           datetime|   topicDistribution|topic_id|sentiment_score|\n",
      "+-------------------+--------------------+--------------------+--------------------+---------------+-------------------+--------------------+--------+---------------+\n",
      "|1316679802288513027|@realDonaldTrump ...|[yeah, read, one,...| [0.155, 0.0, 0.845]|              1|2020-10-15 09:58:22|[0.47098284125424...|       0|          0.155|\n",
      "|1312125637600010240|Remember how nice...|[remember, nice, ...|[0.351, 0.263, 0....|              1|2020-10-02 20:21:44|[0.41687262796477...|       0|          0.351|\n",
      "|1321059480394747905|You're insane.  P...|[insane, presiden...|[0.318, 0.233, 0.45]|              1|2020-10-27 12:01:38|[0.08655836429115...|       4|          0.318|\n",
      "|1317133069783097345|@RepMattGaetz @re...|[democrat, protec...|[0.497, 0.081, 0....|              1|2020-10-16 15:59:29|[0.36164059912514...|       2|          0.497|\n",
      "|1312853349126021128|It fuck up how pe...|[fuck, people, ce...|[0.35, 0.324, 0.327]|              1|2020-10-04 20:33:24|[0.00240071850851...|       4|           0.35|\n",
      "|1319562583926398977|@realDonaldTrump ...|[agree, need, dev...|[0.265, 0.116, 0....|              1|2020-10-23 08:53:30|[0.91909378710257...|       0|          0.265|\n",
      "|1314215331515322368|Right-wing Rasmus...|[rightwing, rasmu...|[0.241, 0.106, 0....|              1|2020-10-08 14:45:26|[0.11440037443243...|       4|          0.241|\n",
      "|1311530088727412736|@manavjivan @real...|[even, thing, rig...|[0.183, 0.133, 0....|              1|2020-10-01 04:55:14|[0.00263024516437...|       2|          0.183|\n",
      "|1317819145925382144|Trump is already ...|[trump, already, ...| [0.327, 0.0, 0.673]|              1|2020-10-18 13:25:42|[0.00540817901930...|       5|          0.327|\n",
      "|1312990349279678465|@amluke17 @Carrie...|[look, sweetie, b...| [0.278, 0.2, 0.522]|              1|2020-10-05 05:37:48|[0.00833499436703...|       2|          0.278|\n",
      "|1318189925536206851|@atldukewife @CNN...|[theyre, pretty, ...|[0.396, 0.279, 0....|              1|2020-10-19 13:59:03|[0.00569973645484...|       5|          0.396|\n",
      "|1315963184461885441|What’s the differ...|[what, difference...| [0.371, 0.0, 0.629]|              1|2020-10-13 10:30:47|[0.00419280870684...|       1|          0.371|\n",
      "|1316480515436883969|So I discovered o...|[discover, obscur...| [0.161, 0.0, 0.839]|              1|2020-10-14 20:46:28|[0.29927679809492...|       5|          0.161|\n",
      "|1316613354790678528|@name_withouta @S...|[earth, would, vo...| [0.262, 0.0, 0.738]|              1|2020-10-15 05:34:19|[0.00675973514437...|       4|          0.262|\n",
      "|1320337485050892288|@IanDunt Lol, typ...|[lol, typically, ...|[0.387, 0.099, 0....|              1|2020-10-25 12:12:41|[0.00503072965971...|       1|          0.387|\n",
      "|1313558902315741184|@padnandos1 @kriz...|[californian, sup...| [0.315, 0.0, 0.685]|              1|2020-10-06 19:17:01|[0.00400333307389...|       4|          0.315|\n",
      "|1321559721711706112|@realDonaldTrump ...|[even, listen, re...| [0.388, 0.0, 0.612]|              1|2020-10-28 21:09:25|[0.25237311833724...|       1|          0.388|\n",
      "|1321815763171352579|@SlayTheThings @a...|[act, high, might...|[0.375, 0.331, 0....|              1|2020-10-29 14:06:50|[0.24320005514034...|       5|          0.375|\n",
      "|1319563574260473857|@AJStream thanks ...|[thank, feedback,...| [0.135, 0.0, 0.865]|              1|2020-10-23 08:57:27|[0.00402824493861...|       4|          0.135|\n",
      "|1315135332459909121|@OnlineDetective ...|[great, quote, ba...| [0.451, 0.0, 0.549]|              1|2020-10-11 03:41:11|[0.00686339313842...|       4|          0.451|\n",
      "+-------------------+--------------------+--------------------+--------------------+---------------+-------------------+--------------------+--------+---------------+\n",
      "only showing top 20 rows"
     ]
    }
   ],
   "source": [
    "transformed = transformed.withColumn('sentiment_score', extractSentiment_udf('sentiment'))\n",
    "transformed.show()"
   ]
  },
  {
   "cell_type": "code",
   "execution_count": 85,
   "metadata": {},
   "outputs": [
    {
     "data": {
      "application/vnd.jupyter.widget-view+json": {
       "model_id": "00c97ebb4072418eb2cdd51842f6ae03",
       "version_major": 2,
       "version_minor": 0
      },
      "text/plain": [
       "VBox()"
      ]
     },
     "metadata": {},
     "output_type": "display_data"
    },
    {
     "data": {
      "application/vnd.jupyter.widget-view+json": {
       "model_id": "",
       "version_major": 2,
       "version_minor": 0
      },
      "text/plain": [
       "FloatProgress(value=0.0, bar_style='info', description='Progress:', layout=Layout(height='25px', width='50%'),…"
      ]
     },
     "metadata": {},
     "output_type": "display_data"
    },
    {
     "name": "stdout",
     "output_type": "stream",
     "text": [
      "+--------+--------------------+\n",
      "|topic_id|avg(sentiment_score)|\n",
      "+--------+--------------------+\n",
      "|       1| 0.31303439483426176|\n",
      "|       3| 0.31083252128304506|\n",
      "|       4|  0.3083450519043254|\n",
      "|       5|  0.2992143931015321|\n",
      "|       2| 0.31084645213138673|\n",
      "|       0| 0.30439868577534634|\n",
      "+--------+--------------------+"
     ]
    }
   ],
   "source": [
    "transformed = transformed.groupBy('topic_id').agg(f.avg('sentiment_score'))\n",
    "transformed.show()"
   ]
  },
  {
   "cell_type": "code",
   "execution_count": 86,
   "metadata": {},
   "outputs": [
    {
     "data": {
      "application/vnd.jupyter.widget-view+json": {
       "model_id": "78ab71332d1042659c822732bdb68b0e",
       "version_major": 2,
       "version_minor": 0
      },
      "text/plain": [
       "VBox()"
      ]
     },
     "metadata": {},
     "output_type": "display_data"
    },
    {
     "data": {
      "application/vnd.jupyter.widget-view+json": {
       "model_id": "",
       "version_major": 2,
       "version_minor": 0
      },
      "text/plain": [
       "FloatProgress(value=0.0, bar_style='info', description='Progress:', layout=Layout(height='25px', width='50%'),…"
      ]
     },
     "metadata": {},
     "output_type": "display_data"
    },
    {
     "name": "stdout",
     "output_type": "stream",
     "text": [
      "+--------+--------------------+------------------------------------------------------------------------------------+\n",
      "|topic_id|avg(sentiment_score)|word                                                                                |\n",
      "+--------+--------------------+------------------------------------------------------------------------------------+\n",
      "|1       |0.31303439483426176 |[plan, health, care, maga, security, social, world, try, life, part]                |\n",
      "|2       |0.31084645213138673 |[party, everyone, another, wish, never, bad, republican, twitter, conservative, try]|\n",
      "|3       |0.31083252128304506 |[house, tax, peace, mask, else, white, wear, today, rich, break]                    |\n",
      "|4       |0.3083450519043254  |[man, woman, black, court, word, wrong, support, supreme, donald, voter]            |\n",
      "|0       |0.30439868577534634 |[state, america, god, ballot, bless, stand, last, country, act, lead]               |\n",
      "|5       |0.2992143931015321  |[news, debate, test, first, covid, positive, funny, new, virus, even]               |\n",
      "+--------+--------------------+------------------------------------------------------------------------------------+"
     ]
    }
   ],
   "source": [
    "topics = topics.drop('termIndices', 'termWeights')\n",
    "result = transformed.join(topics, transformed.topic_id == topics.topic, 'inner').drop('topic').sort(f.col('avg(sentiment_score)'), ascending=False)\n",
    "result.show(truncate=False)"
   ]
  }
 ],
 "metadata": {
  "kernelspec": {
   "display_name": "PySpark",
   "language": "",
   "name": "pysparkkernel"
  },
  "language_info": {
   "codemirror_mode": {
    "name": "python",
    "version": 3
   },
   "mimetype": "text/x-python",
   "name": "pyspark",
   "pygments_lexer": "python3"
  },
  "metadata": {
   "interpreter": {
    "hash": "4ef8975e22676df32c930aae12a41200d93f0ab6e5e4fbe73ecc9ad618aa940e"
   }
  }
 },
 "nbformat": 4,
 "nbformat_minor": 4
}