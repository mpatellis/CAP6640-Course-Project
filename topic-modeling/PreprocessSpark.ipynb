{
 "cells": [
  {
   "cell_type": "code",
   "execution_count": 4,
   "id": "postal-voice",
   "metadata": {},
   "outputs": [
    {
     "data": {
      "application/vnd.jupyter.widget-view+json": {
       "model_id": "b3d68f000c0945dba6ed8a3eed634b39",
       "version_major": 2,
       "version_minor": 0
      },
      "text/plain": [
       "VBox()"
      ]
     },
     "metadata": {},
     "output_type": "display_data"
    },
    {
     "data": {
      "application/vnd.jupyter.widget-view+json": {
       "model_id": "",
       "version_major": 2,
       "version_minor": 0
      },
      "text/plain": [
       "FloatProgress(value=0.0, bar_style='info', description='Progress:', layout=Layout(height='25px', width='50%'),…"
      ]
     },
     "metadata": {},
     "output_type": "display_data"
    },
    {
     "name": "stderr",
     "output_type": "stream",
     "text": [
      "An error was encountered:\n",
      "install_pypi_packages can only use called when spark.pyspark.virtualenv.enabled is set to true\n",
      "Traceback (most recent call last):\n",
      "  File \"/usr/lib/spark/python/lib/pyspark.zip/pyspark/context.py\", line 1178, in install_pypi_package\n",
      "    pypi_package = self._validate_package(pypi_package)\n",
      "  File \"/usr/lib/spark/python/lib/pyspark.zip/pyspark/context.py\", line 1245, in _validate_package\n",
      "    raise RuntimeError(\"install_pypi_packages can only use called when \"\n",
      "RuntimeError: install_pypi_packages can only use called when spark.pyspark.virtualenv.enabled is set to true\n",
      "\n"
     ]
    }
   ],
   "source": [
    "import findspark\n",
    "findspark.init('/opt/spark')\n",
    "\n",
    "import os\n",
    "from dotenv import load_dotenv\n",
    "load_dotenv('../.env')\n",
    "access = os.environ.get('AWS_ACCESS')\n",
    "secret = os.environ.get('AWS_SECRET')"
   ]
  },
  {
   "cell_type": "code",
   "execution_count": 1,
   "id": "latter-tackle",
   "metadata": {},
   "outputs": [
    {
     "data": {
      "application/vnd.jupyter.widget-view+json": {
       "model_id": "c8cc23de1ea6462aac9b9298f4454cd6",
       "version_major": 2,
       "version_minor": 0
      },
      "text/plain": [
       "VBox()"
      ]
     },
     "metadata": {},
     "output_type": "display_data"
    },
    {
     "name": "stdout",
     "output_type": "stream",
     "text": [
      "Starting Spark application\n"
     ]
    },
    {
     "data": {
      "text/html": [
       "<table>\n",
       "<tr><th>ID</th><th>YARN Application ID</th><th>Kind</th><th>State</th><th>Spark UI</th><th>Driver log</th><th>Current session?</th></tr><tr><td>3</td><td>application_1618254796607_0005</td><td>pyspark</td><td>idle</td><td><a target=\"_blank\" href=\"http://ip-172-31-67-172.ec2.internal:20888/proxy/application_1618254796607_0005/\" class=\"emr-proxy-link\" emr-resource=\"j-3NPMLXR35H87G\n",
       "\" application-id=\"application_1618254796607_0005\">Link</a></td><td><a target=\"_blank\" href=\"http://ip-172-31-70-180.ec2.internal:8042/node/containerlogs/container_1618254796607_0005_01_000001/livy\" >Link</a></td><td>✔</td></tr></table>"
      ],
      "text/plain": [
       "<IPython.core.display.HTML object>"
      ]
     },
     "metadata": {},
     "output_type": "display_data"
    },
    {
     "data": {
      "application/vnd.jupyter.widget-view+json": {
       "model_id": "",
       "version_major": 2,
       "version_minor": 0
      },
      "text/plain": [
       "FloatProgress(value=0.0, bar_style='info', description='Progress:', layout=Layout(height='25px', width='50%'),…"
      ]
     },
     "metadata": {},
     "output_type": "display_data"
    },
    {
     "name": "stdout",
     "output_type": "stream",
     "text": [
      "SparkSession available as 'spark'.\n"
     ]
    },
    {
     "data": {
      "application/vnd.jupyter.widget-view+json": {
       "model_id": "",
       "version_major": 2,
       "version_minor": 0
      },
      "text/plain": [
       "FloatProgress(value=0.0, bar_style='info', description='Progress:', layout=Layout(height='25px', width='50%'),…"
      ]
     },
     "metadata": {},
     "output_type": "display_data"
    }
   ],
   "source": [
    "from pyspark.sql import SparkSession\n",
    "from pyspark import SparkConf\n",
    "from pyspark.sql.types import StringType\n",
    "from pyspark.sql.functions import col, size, udf\n",
    "\n",
    "conf = SparkConf() \\\n",
    "    .set(\"fs.s3a.awsAccessKeyId\", access) \\\n",
    "    .set(\"fs.s3a.awsSecretAccessKey\", secret) \\\n",
    "    .set(\"fs.s3a.endpoint\", \"s3.us-east-1.amazonaws.com\") \\\n",
    "    .set(\"fs.s3a.impl\", \"org.apache.hadoop.fs.s3a.S3AFileSystem\") \\\n",
    "    .set(\"fs.s3a.impl\",\"org.apache.hadoop.fs.s3native.NativeS3FileSystem\") \\\n",
    "    .set(\"com.amazonaws.services.s3.enableV4\", \"true\") \\\n",
    "    .set(\"spark.hadoop.mapreduce.fileoutputcommitter.algorithm.version\", \"2\") \\\n",
    "    .set(\"spark.hadoop.fs.s3a.fast.upload\",\"true\") \\\n",
    "    .set(\"spark.sql.parquet.filterPushdown\", \"true\")\n",
    "\n",
    "spark = SparkSession.builder.appName('data-cleaning').config(conf=conf).getOrCreate()"
   ]
  },
  {
   "cell_type": "code",
   "execution_count": 2,
   "id": "cleared-alert",
   "metadata": {},
   "outputs": [
    {
     "data": {
      "application/vnd.jupyter.widget-view+json": {
       "model_id": "dc173837c0b34f748c689a648e8fddb4",
       "version_major": 2,
       "version_minor": 0
      },
      "text/plain": [
       "VBox()"
      ]
     },
     "metadata": {},
     "output_type": "display_data"
    },
    {
     "data": {
      "application/vnd.jupyter.widget-view+json": {
       "model_id": "",
       "version_major": 2,
       "version_minor": 0
      },
      "text/plain": [
       "FloatProgress(value=0.0, bar_style='info', description='Progress:', layout=Layout(height='25px', width='50%'),…"
      ]
     },
     "metadata": {},
     "output_type": "display_data"
    }
   ],
   "source": [
    "import sparknlp\n",
    "from sparknlp.base import Finisher, DocumentAssembler\n",
    "from sparknlp.annotator import (Tokenizer, Normalizer,\n",
    "                                LemmatizerModel, StopWordsCleaner)\n",
    "from sparknlp.pretrained import PretrainedPipeline\n",
    "from pyspark.ml import Pipeline"
   ]
  },
  {
   "cell_type": "code",
   "execution_count": 28,
   "id": "regional-sleeping",
   "metadata": {},
   "outputs": [
    {
     "data": {
      "application/vnd.jupyter.widget-view+json": {
       "model_id": "7a1d85258d0747dda7a8d69bab21be86",
       "version_major": 2,
       "version_minor": 0
      },
      "text/plain": [
       "VBox()"
      ]
     },
     "metadata": {},
     "output_type": "display_data"
    },
    {
     "data": {
      "application/vnd.jupyter.widget-view+json": {
       "model_id": "",
       "version_major": 2,
       "version_minor": 0
      },
      "text/plain": [
       "FloatProgress(value=0.0, bar_style='info', description='Progress:', layout=Layout(height='25px', width='50%'),…"
      ]
     },
     "metadata": {},
     "output_type": "display_data"
    }
   ],
   "source": [
    "filename = ''\n",
    "df = spark.read.parquet(filename).drop('geo', 'coordinates', 'place', 'Unnamed: 0', 'Unnamed: 0.1')"
   ]
  },
  {
   "cell_type": "code",
   "execution_count": 29,
   "id": "filled-gather",
   "metadata": {},
   "outputs": [
    {
     "data": {
      "application/vnd.jupyter.widget-view+json": {
       "model_id": "96778245939047c38fb724df54659f3e",
       "version_major": 2,
       "version_minor": 0
      },
      "text/plain": [
       "VBox()"
      ]
     },
     "metadata": {},
     "output_type": "display_data"
    },
    {
     "data": {
      "application/vnd.jupyter.widget-view+json": {
       "model_id": "",
       "version_major": 2,
       "version_minor": 0
      },
      "text/plain": [
       "FloatProgress(value=0.0, bar_style='info', description='Progress:', layout=Layout(height='25px', width='50%'),…"
      ]
     },
     "metadata": {},
     "output_type": "display_data"
    },
    {
     "name": "stdout",
     "output_type": "stream",
     "text": [
      "root\n",
      " |-- id: string (nullable = true)\n",
      " |-- full_text: string (nullable = true)\n",
      " |-- retweet_count: double (nullable = true)\n",
      " |-- favorite_count: double (nullable = true)"
     ]
    }
   ],
   "source": [
    "df.printSchema()"
   ]
  },
  {
   "cell_type": "code",
   "execution_count": 30,
   "id": "central-mineral",
   "metadata": {},
   "outputs": [
    {
     "data": {
      "application/vnd.jupyter.widget-view+json": {
       "model_id": "5dd522ebefed40afb1cbc6840476ffc6",
       "version_major": 2,
       "version_minor": 0
      },
      "text/plain": [
       "VBox()"
      ]
     },
     "metadata": {},
     "output_type": "display_data"
    },
    {
     "data": {
      "application/vnd.jupyter.widget-view+json": {
       "model_id": "",
       "version_major": 2,
       "version_minor": 0
      },
      "text/plain": [
       "FloatProgress(value=0.0, bar_style='info', description='Progress:', layout=Layout(height='25px', width='50%'),…"
      ]
     },
     "metadata": {},
     "output_type": "display_data"
    }
   ],
   "source": [
    "import preprocessor as p"
   ]
  },
  {
   "cell_type": "code",
   "execution_count": 31,
   "id": "defensive-worry",
   "metadata": {},
   "outputs": [
    {
     "data": {
      "application/vnd.jupyter.widget-view+json": {
       "model_id": "da9fa751056241e1bdaff9ac9d0dd7f5",
       "version_major": 2,
       "version_minor": 0
      },
      "text/plain": [
       "VBox()"
      ]
     },
     "metadata": {},
     "output_type": "display_data"
    },
    {
     "data": {
      "application/vnd.jupyter.widget-view+json": {
       "model_id": "",
       "version_major": 2,
       "version_minor": 0
      },
      "text/plain": [
       "FloatProgress(value=0.0, bar_style='info', description='Progress:', layout=Layout(height='25px', width='50%'),…"
      ]
     },
     "metadata": {},
     "output_type": "display_data"
    }
   ],
   "source": [
    "def tweetPreprocessor(text):\n",
    "    p.set_options(p.OPT.URL, p.OPT.EMOJI, p.OPT.SMILEY, p.OPT.NUMBER, p.OPT.MENTION)\n",
    "    text = p.clean(text)\n",
    "    return text\n",
    "tweetPreprocessor_udf = udf(tweetPreprocessor, StringType())"
   ]
  },
  {
   "cell_type": "code",
   "execution_count": 32,
   "id": "dedicated-improvement",
   "metadata": {},
   "outputs": [
    {
     "data": {
      "application/vnd.jupyter.widget-view+json": {
       "model_id": "86c7173b0547424694e7330f3a4b92af",
       "version_major": 2,
       "version_minor": 0
      },
      "text/plain": [
       "VBox()"
      ]
     },
     "metadata": {},
     "output_type": "display_data"
    },
    {
     "data": {
      "application/vnd.jupyter.widget-view+json": {
       "model_id": "",
       "version_major": 2,
       "version_minor": 0
      },
      "text/plain": [
       "FloatProgress(value=0.0, bar_style='info', description='Progress:', layout=Layout(height='25px', width='50%'),…"
      ]
     },
     "metadata": {},
     "output_type": "display_data"
    },
    {
     "name": "stdout",
     "output_type": "stream",
     "text": [
      "+--------------------+--------------------+-------------+--------------+--------------------+\n",
      "|                  id|           full_text|retweet_count|favorite_count|               clean|\n",
      "+--------------------+--------------------+-------------+--------------+--------------------+\n",
      "|1.300070747059167...|@kmiranda1973 @Mi...|          0.0|           2.0|                    |\n",
      "|1.300070747453427...|@realDonaldTrump ...|          0.0|           0.0|                    |\n",
      "|1.300070747566755...|@realDonaldTrump ...|          0.0|           1.0|Pizza and Chicken...|\n",
      "|1.300070748116131...|@EricTrump @realD...|          0.0|           1.0|                    |\n",
      "|1.300070748359454...|Impeached @realdo...|          0.0|           1.0|Impeached and #mi...|\n",
      "+--------------------+--------------------+-------------+--------------+--------------------+\n",
      "only showing top 5 rows"
     ]
    }
   ],
   "source": [
    "df = df.withColumn('clean', tweetPreprocessor_udf('full_text'))\n",
    "df.show(5)"
   ]
  },
  {
   "cell_type": "code",
   "execution_count": 33,
   "id": "passive-complex",
   "metadata": {},
   "outputs": [
    {
     "data": {
      "application/vnd.jupyter.widget-view+json": {
       "model_id": "42bc8136d1a443ff9ac83f96282b2371",
       "version_major": 2,
       "version_minor": 0
      },
      "text/plain": [
       "VBox()"
      ]
     },
     "metadata": {},
     "output_type": "display_data"
    },
    {
     "data": {
      "application/vnd.jupyter.widget-view+json": {
       "model_id": "",
       "version_major": 2,
       "version_minor": 0
      },
      "text/plain": [
       "FloatProgress(value=0.0, bar_style='info', description='Progress:', layout=Layout(height='25px', width='50%'),…"
      ]
     },
     "metadata": {},
     "output_type": "display_data"
    }
   ],
   "source": [
    "# The nltk stopword won't download onto emr without some setup so it's just easier to copy and paste\n",
    "stopwords_list = ['i', 'me', 'my', 'myself', 'we', 'our', 'ours', 'ourselves', 'you', \"you're\", \"you've\", \"you'll\", \"you'd\", 'your', 'yours', 'yourself', 'yourselves', 'he', 'him', 'his', 'himself', 'she', \"she's\", 'her', 'hers', 'herself', 'it', \"it's\", 'its', 'itself', 'they', 'them', 'their', 'theirs', 'themselves', 'what', 'which', 'who', 'whom', 'this', 'that', \"that'll\", 'these', 'those', 'am', 'is', 'are', 'was', 'were', 'be', 'been', 'being', 'have', 'has', 'had', 'having', 'do', 'does', 'did', 'doing', 'a', 'an', 'the', 'and', 'but', 'if', 'or', 'because', 'as', 'until', 'while', 'of', 'at', 'by', 'for', 'with', 'about', 'against', 'between', 'into', 'through', 'during', 'before', 'after', 'above', 'below', 'to', 'from', 'up', 'down', 'in', 'out', 'on', 'off', 'over', 'under', 'again', 'further', 'then', 'once', 'here', 'there', 'when', 'where', 'why', 'how', 'all', 'any', 'both', 'each', 'few', 'more', 'most', 'other', 'some', 'such', 'no', 'nor', 'not', 'only', 'own', 'same', 'so', 'than', 'too', 'very', 's', 't', 'can', 'will', 'just', 'don', \"don't\", 'should', \"should've\", 'now', 'd', 'll', 'm', 'o', 're', 've', 'y', 'ain', 'aren', \"aren't\", 'couldn', \"couldn't\", 'didn', \"didn't\", 'doesn', \"doesn't\", 'hadn', \"hadn't\", 'hasn', \"hasn't\", 'haven', \"haven't\", 'isn', \"isn't\", 'ma', 'mightn', \"mightn't\", 'mustn', \"mustn't\", 'needn', \"needn't\", 'shan', \"shan't\", 'shouldn', \"shouldn't\", 'wasn', \"wasn't\", 'weren', \"weren't\", 'won', \"won't\", 'wouldn', \"wouldn't\"]"
   ]
  },
  {
   "cell_type": "code",
   "execution_count": 34,
   "id": "flush-premises",
   "metadata": {},
   "outputs": [
    {
     "data": {
      "application/vnd.jupyter.widget-view+json": {
       "model_id": "2ed71d86e4254816b96a8bd12429bf17",
       "version_major": 2,
       "version_minor": 0
      },
      "text/plain": [
       "VBox()"
      ]
     },
     "metadata": {},
     "output_type": "display_data"
    },
    {
     "data": {
      "application/vnd.jupyter.widget-view+json": {
       "model_id": "",
       "version_major": 2,
       "version_minor": 0
      },
      "text/plain": [
       "FloatProgress(value=0.0, bar_style='info', description='Progress:', layout=Layout(height='25px', width='50%'),…"
      ]
     },
     "metadata": {},
     "output_type": "display_data"
    },
    {
     "name": "stdout",
     "output_type": "stream",
     "text": [
      "lemma_antbnc download started this may take some time.\n",
      "Approximate size to download 907.6 KB\n",
      "[OK!]"
     ]
    }
   ],
   "source": [
    "\n",
    "documentAssembler = DocumentAssembler() \\\n",
    "    .setInputCol('clean') \\\n",
    "    .setOutputCol('document') \\\n",
    "    .setCleanupMode('shrink_full')\n",
    "\n",
    "tokenizer = Tokenizer() \\\n",
    "    .setInputCols(['document']) \\\n",
    "    .setOutputCol('token')\n",
    "\n",
    "stopwords_cleaner = StopWordsCleaner() \\\n",
    "    .setInputCols(['token']) \\\n",
    "    .setOutputCol('removed_stop') \\\n",
    "    .setCaseSensitive(False) \\\n",
    "    .setStopWords(stopwords_list)\n",
    "\n",
    "normalizer = Normalizer() \\\n",
    "    .setInputCols(['removed_stop']) \\\n",
    "    .setOutputCol('normalized') \\\n",
    "    .setLowercase(True)\n",
    "\n",
    "lemmatizer = LemmatizerModel.pretrained() \\\n",
    "    .setInputCols(['normalized']) \\\n",
    "    .setOutputCol('lemma')\n",
    "\n",
    "finisher = Finisher() \\\n",
    "     .setInputCols(['lemma']) \\\n",
    "     .setCleanAnnotations(True)"
   ]
  },
  {
   "cell_type": "code",
   "execution_count": 35,
   "id": "alike-effects",
   "metadata": {},
   "outputs": [
    {
     "data": {
      "application/vnd.jupyter.widget-view+json": {
       "model_id": "bff4255a5892414f9f3f6e790ba4689b",
       "version_major": 2,
       "version_minor": 0
      },
      "text/plain": [
       "VBox()"
      ]
     },
     "metadata": {},
     "output_type": "display_data"
    },
    {
     "data": {
      "application/vnd.jupyter.widget-view+json": {
       "model_id": "",
       "version_major": 2,
       "version_minor": 0
      },
      "text/plain": [
       "FloatProgress(value=0.0, bar_style='info', description='Progress:', layout=Layout(height='25px', width='50%'),…"
      ]
     },
     "metadata": {},
     "output_type": "display_data"
    }
   ],
   "source": [
    "pipeline = Pipeline() \\\n",
    "     .setStages([\n",
    "           documentAssembler,\n",
    "           tokenizer,\n",
    "           stopwords_cleaner,\n",
    "           normalizer,\n",
    "           lemmatizer,\n",
    "           finisher\n",
    "     ])"
   ]
  },
  {
   "cell_type": "code",
   "execution_count": 36,
   "id": "sophisticated-string",
   "metadata": {},
   "outputs": [
    {
     "data": {
      "application/vnd.jupyter.widget-view+json": {
       "model_id": "788c942e2c87416db4ae9b95e7885460",
       "version_major": 2,
       "version_minor": 0
      },
      "text/plain": [
       "VBox()"
      ]
     },
     "metadata": {},
     "output_type": "display_data"
    },
    {
     "data": {
      "application/vnd.jupyter.widget-view+json": {
       "model_id": "",
       "version_major": 2,
       "version_minor": 0
      },
      "text/plain": [
       "FloatProgress(value=0.0, bar_style='info', description='Progress:', layout=Layout(height='25px', width='50%'),…"
      ]
     },
     "metadata": {},
     "output_type": "display_data"
    },
    {
     "name": "stdout",
     "output_type": "stream",
     "text": [
      "+--------------------+--------------------+-------------+--------------+--------------------+\n",
      "|                  id|           full_text|retweet_count|favorite_count|          clean_text|\n",
      "+--------------------+--------------------+-------------+--------------+--------------------+\n",
      "|1.300070747059167...|@kmiranda1973 @Mi...|          0.0|           2.0|                  []|\n",
      "|1.300070747453427...|@realDonaldTrump ...|          0.0|           0.0|                  []|\n",
      "|1.300070747566755...|@realDonaldTrump ...|          0.0|           1.0|[pizza, chicken, ...|\n",
      "|1.300070748116131...|@EricTrump @realD...|          0.0|           1.0|                  []|\n",
      "|1.300070748359454...|Impeached @realdo...|          0.0|           1.0|[impeach, mikepen...|\n",
      "|1.300070748367786...|@PollWatch2020 @r...|          0.0|           0.0|      [head, advice]|\n",
      "|1.300070748631916...|@RichLowry @realD...|          0.0|           0.0|[kind, like, glos...|\n",
      "|1.300070748942344...|@realDonaldTrump ...|          0.0|           1.0|[let, start, pros...|\n",
      "|1.300070749336727...|@eugenegu @realDo...|          0.0|           0.0|[ok, let, talk, t...|\n",
      "|1.300070749374476...|@realDonaldTrump ...|          0.0|           0.0|[look, like, inst...|\n",
      "|1.300070750057951...|@realDonaldTrump ...|          0.0|           0.0|[murderer, trumpv...|\n",
      "|1.300070750057975...|@realDonaldTrump ...|          0.0|           0.0|                  []|\n",
      "|1.300070750951551...|@EricTrump @realD...|          0.0|           0.0|[moron, like, fat...|\n",
      "|1.300070751903645...|@ElvisKirby4 @jas...|          0.0|           0.0|[fallacy, violati...|\n",
      "|1.300070752104992...|@realDonaldTrump ...|          0.0|           0.0|[nobody, give, sh...|\n",
      "|1.300070752763347...|People who don’t ...|          0.0|           0.0|[people, dont, ev...|\n",
      "|1.300070752788545...|@RacismWoke @manp...|          0.0|           0.0|[show, tweet, agr...|\n",
      "|1.300070753501687...|@themisst1 @Huber...|          0.0|           1.0|                  []|\n",
      "|1.300070754327892...|@VicBergerIV @rea...|          0.0|           1.0|[quite, artist, v...|\n",
      "|1.300070754378305...|@KamVTV @davidcic...|          0.0|           3.0|[read, job, descr...|\n",
      "+--------------------+--------------------+-------------+--------------+--------------------+\n",
      "only showing top 20 rows"
     ]
    }
   ],
   "source": [
    "df = pipeline.fit(df).transform(df)\n",
    "df = df.drop('clean').withColumnRenamed('finished_lemma', 'clean_text')"
   ]
  },
  {
   "cell_type": "code",
   "execution_count": 37,
   "id": "honey-brighton",
   "metadata": {},
   "outputs": [
    {
     "data": {
      "application/vnd.jupyter.widget-view+json": {
       "model_id": "a739fa97c78142e4a87a8ac5f50b4eb8",
       "version_major": 2,
       "version_minor": 0
      },
      "text/plain": [
       "VBox()"
      ]
     },
     "metadata": {},
     "output_type": "display_data"
    },
    {
     "data": {
      "application/vnd.jupyter.widget-view+json": {
       "model_id": "",
       "version_major": 2,
       "version_minor": 0
      },
      "text/plain": [
       "FloatProgress(value=0.0, bar_style='info', description='Progress:', layout=Layout(height='25px', width='50%'),…"
      ]
     },
     "metadata": {},
     "output_type": "display_data"
    },
    {
     "name": "stdout",
     "output_type": "stream",
     "text": [
      "+--------------------+--------------------+-------------+--------------+--------------------+\n",
      "|                  id|           full_text|retweet_count|favorite_count|          clean_text|\n",
      "+--------------------+--------------------+-------------+--------------+--------------------+\n",
      "|1.300070748359454...|Impeached @realdo...|          0.0|           1.0|[impeach, mikepen...|\n",
      "|1.300070748631916...|@RichLowry @realD...|          0.0|           0.0|[kind, like, glos...|\n",
      "|1.300070748942344...|@realDonaldTrump ...|          0.0|           1.0|[let, start, pros...|\n",
      "|1.300070749336727...|@eugenegu @realDo...|          0.0|           0.0|[ok, let, talk, t...|\n",
      "|1.300070751903645...|@ElvisKirby4 @jas...|          0.0|           0.0|[fallacy, violati...|\n",
      "|1.300070752104992...|@realDonaldTrump ...|          0.0|           0.0|[nobody, give, sh...|\n",
      "|1.300070752763347...|People who don’t ...|          0.0|           0.0|[people, dont, ev...|\n",
      "|1.300070752788545...|@RacismWoke @manp...|          0.0|           0.0|[show, tweet, agr...|\n",
      "|1.300070754327892...|@VicBergerIV @rea...|          0.0|           1.0|[quite, artist, v...|\n",
      "|1.300070755950948...|@someknew @realDo...|          0.0|           1.0|[fine, hes, proba...|\n",
      "|1.300070756802424...|@JackPosobiec We ...|          1.0|          10.0|[need, order, amp...|\n",
      "|1.300070757440028...|MT @realdonaldtru...|          0.0|           0.0|[mt, america, con...|\n",
      "|1.300070757511450...|@JohnMaron11 @Luk...|          0.0|           0.0|[comply, police, ...|\n",
      "|1.300070757641396...|@realDonaldTrump ...|          0.0|           6.0|[one, dangerous, ...|\n",
      "|1.300070757905707...|@EricTrump @Trump...|          3.0|           4.0|[hey, eric, famil...|\n",
      "|1.300070757993644...|@stillgray @realD...|          0.0|           0.0|[pack, lie, go, s...|\n",
      "|1.300070758010544...|@manavjivan @real...|          0.0|           1.0|[gonna, lot, libe...|\n",
      "|1.300070758216011...|@space_man_z @chi...|          0.0|           0.0|[mean, lil, chip,...|\n",
      "|1.300070758220210...|@JohnCornyn @John...|          2.0|           2.0|[senator, declare...|\n",
      "|1.300070758694219...|@realDonaldTrump ...|          0.0|           0.0|[cause, blood, ha...|\n",
      "+--------------------+--------------------+-------------+--------------+--------------------+\n",
      "only showing top 20 rows"
     ]
    }
   ],
   "source": [
    "df = df.where(size(col('clean_text')) > 4)\n",
    "df.show()"
   ]
  },
  {
   "source": [
    "Writing will take forever"
   ],
   "cell_type": "markdown",
   "metadata": {}
  },
  {
   "cell_type": "code",
   "execution_count": 38,
   "id": "awful-dressing",
   "metadata": {},
   "outputs": [
    {
     "data": {
      "application/vnd.jupyter.widget-view+json": {
       "model_id": "be45858588d442998a069d1381e7274e",
       "version_major": 2,
       "version_minor": 0
      },
      "text/plain": [
       "VBox()"
      ]
     },
     "metadata": {},
     "output_type": "display_data"
    },
    {
     "data": {
      "application/vnd.jupyter.widget-view+json": {
       "model_id": "",
       "version_major": 2,
       "version_minor": 0
      },
      "text/plain": [
       "FloatProgress(value=0.0, bar_style='info', description='Progress:', layout=Layout(height='25px', width='50%'),…"
      ]
     },
     "metadata": {},
     "output_type": "display_data"
    }
   ],
   "source": [
    "filename = ''\n",
    "df.write.parquet(filename, mode='overwrite')"
   ]
  },
  {
   "cell_type": "code",
   "execution_count": null,
   "id": "arctic-happiness",
   "metadata": {},
   "outputs": [],
   "source": []
  }
 ],
 "metadata": {
  "kernelspec": {
   "display_name": "PySpark",
   "language": "",
   "name": "pysparkkernel"
  },
  "language_info": {
   "codemirror_mode": {
    "name": "python",
    "version": 3
   },
   "mimetype": "text/x-python",
   "name": "pyspark",
   "pygments_lexer": "python3"
  },
  "metadata": {
   "interpreter": {
    "hash": "4ef8975e22676df32c930aae12a41200d93f0ab6e5e4fbe73ecc9ad618aa940e"
   }
  }
 },
 "nbformat": 4,
 "nbformat_minor": 5
}