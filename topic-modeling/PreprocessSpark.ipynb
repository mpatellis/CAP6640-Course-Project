{
 "cells": [
  {
   "cell_type": "code",
   "execution_count": 1,
   "id": "e0966be0",
   "metadata": {},
   "outputs": [
    {
     "data": {
      "application/vnd.jupyter.widget-view+json": {
       "model_id": "08f4ac0a4fae444db457bf355be7130d",
       "version_major": 2,
       "version_minor": 0
      },
      "text/plain": [
       "VBox()"
      ]
     },
     "metadata": {},
     "output_type": "display_data"
    },
    {
     "name": "stdout",
     "output_type": "stream",
     "text": [
      "Starting Spark application\n"
     ]
    },
    {
     "data": {
      "text/html": [
       "<table>\n",
       "<tr><th>ID</th><th>YARN Application ID</th><th>Kind</th><th>State</th><th>Spark UI</th><th>Driver log</th><th>Current session?</th></tr><tr><td>0</td><td>application_1619713790525_0002</td><td>pyspark</td><td>idle</td><td><a target=\"_blank\" href=\"http://ip-172-31-64-155.ec2.internal:20888/proxy/application_1619713790525_0002/\" >Link</a></td><td><a target=\"_blank\" href=\"http://ip-172-31-79-233.ec2.internal:8042/node/containerlogs/container_1619713790525_0002_01_000001/livy\" >Link</a></td><td>✔</td></tr></table>"
      ],
      "text/plain": [
       "<IPython.core.display.HTML object>"
      ]
     },
     "metadata": {},
     "output_type": "display_data"
    },
    {
     "data": {
      "application/vnd.jupyter.widget-view+json": {
       "model_id": "",
       "version_major": 2,
       "version_minor": 0
      },
      "text/plain": [
       "FloatProgress(value=0.0, bar_style='info', description='Progress:', layout=Layout(height='25px', width='50%'),…"
      ]
     },
     "metadata": {},
     "output_type": "display_data"
    },
    {
     "name": "stdout",
     "output_type": "stream",
     "text": [
      "SparkSession available as 'spark'.\n"
     ]
    },
    {
     "data": {
      "application/vnd.jupyter.widget-view+json": {
       "model_id": "",
       "version_major": 2,
       "version_minor": 0
      },
      "text/plain": [
       "FloatProgress(value=0.0, bar_style='info', description='Progress:', layout=Layout(height='25px', width='50%'),…"
      ]
     },
     "metadata": {},
     "output_type": "display_data"
    }
   ],
   "source": [
    "from pyspark.sql import SparkSession\n",
    "from pyspark import SparkConf\n",
    "from pyspark.sql.types import ArrayType, FloatType, IntegerType, StringType, StructField, StructType\n",
    "from pyspark.sql.functions import col, size, udf\n",
    "\n",
    "conf = SparkConf() \\\n",
    "    .set(\"fs.s3a.awsAccessKeyId\", access) \\\n",
    "    .set(\"fs.s3a.awsSecretAccessKey\", secret) \\\n",
    "    .set(\"fs.s3a.endpoint\", \"s3.us-east-1.amazonaws.com\") \\\n",
    "    .set(\"fs.s3a.impl\", \"org.apache.hadoop.fs.s3a.S3AFileSystem\") \\\n",
    "    .set(\"fs.s3a.impl\",\"org.apache.hadoop.fs.s3native.NativeS3FileSystem\") \\\n",
    "    .set(\"com.amazonaws.services.s3.enableV4\", \"true\") \\\n",
    "    .set(\"spark.hadoop.mapreduce.fileoutputcommitter.algorithm.version\", \"2\") \\\n",
    "    .set(\"spark.hadoop.fs.s3a.fast.upload\",\"true\") \\\n",
    "    .set(\"spark.sql.parquet.filterPushdown\", \"true\") \\\n",
    "    .set(\"spark.sql.parquet.compression.codec\", \"snappy\")\n",
    "\n",
    "spark = SparkSession.builder.appName('data-cleaning').config(conf=conf).getOrCreate()"
   ]
  },
  {
   "cell_type": "code",
   "execution_count": 2,
   "id": "684660c3",
   "metadata": {},
   "outputs": [
    {
     "data": {
      "application/vnd.jupyter.widget-view+json": {
       "model_id": "1e4dc9ec11e8420c89650ba576a1e125",
       "version_major": 2,
       "version_minor": 0
      },
      "text/plain": [
       "VBox()"
      ]
     },
     "metadata": {},
     "output_type": "display_data"
    },
    {
     "data": {
      "application/vnd.jupyter.widget-view+json": {
       "model_id": "",
       "version_major": 2,
       "version_minor": 0
      },
      "text/plain": [
       "FloatProgress(value=0.0, bar_style='info', description='Progress:', layout=Layout(height='25px', width='50%'),…"
      ]
     },
     "metadata": {},
     "output_type": "display_data"
    }
   ],
   "source": [
    "import sparknlp\n",
    "from sparknlp.base import Finisher, DocumentAssembler\n",
    "from sparknlp.annotator import (Tokenizer, Normalizer,\n",
    "                                LemmatizerModel, StopWordsCleaner,\n",
    "                               SentenceDetector)\n",
    "from sparknlp.pretrained import PretrainedPipeline\n",
    "from pyspark.ml import Pipeline"
   ]
  },
  {
   "cell_type": "code",
   "execution_count": 154,
   "id": "319622ab",
   "metadata": {},
   "outputs": [
    {
     "data": {
      "application/vnd.jupyter.widget-view+json": {
       "model_id": "cfecdeaa5b254c39b1e5cc47b5638607",
       "version_major": 2,
       "version_minor": 0
      },
      "text/plain": [
       "VBox()"
      ]
     },
     "metadata": {},
     "output_type": "display_data"
    },
    {
     "data": {
      "application/vnd.jupyter.widget-view+json": {
       "model_id": "",
       "version_major": 2,
       "version_minor": 0
      },
      "text/plain": [
       "FloatProgress(value=0.0, bar_style='info', description='Progress:', layout=Layout(height='25px', width='50%'),…"
      ]
     },
     "metadata": {},
     "output_type": "display_data"
    }
   ],
   "source": [
    "filename = ''\n",
    "df = spark.read.parquet(filename).drop('geo', 'coordinates', 'place', 'Unnamed: 0', 'Unnamed: 0.1', '__index_level_0__', 'retweet_count', 'favorite_count')"
   ]
  },
  {
   "cell_type": "code",
   "execution_count": 156,
   "id": "32b41695",
   "metadata": {},
   "outputs": [
    {
     "data": {
      "application/vnd.jupyter.widget-view+json": {
       "model_id": "1972780c027a4381bdcd6ee1b5ab9e7c",
       "version_major": 2,
       "version_minor": 0
      },
      "text/plain": [
       "VBox()"
      ]
     },
     "metadata": {},
     "output_type": "display_data"
    },
    {
     "data": {
      "application/vnd.jupyter.widget-view+json": {
       "model_id": "",
       "version_major": 2,
       "version_minor": 0
      },
      "text/plain": [
       "FloatProgress(value=0.0, bar_style='info', description='Progress:', layout=Layout(height='25px', width='50%'),…"
      ]
     },
     "metadata": {},
     "output_type": "display_data"
    }
   ],
   "source": [
    "import preprocessor as p"
   ]
  },
  {
   "cell_type": "code",
   "execution_count": 157,
   "id": "6c2c2bd7",
   "metadata": {},
   "outputs": [
    {
     "data": {
      "application/vnd.jupyter.widget-view+json": {
       "model_id": "bd3ea0d3daba40a7a5b1292f630a0c33",
       "version_major": 2,
       "version_minor": 0
      },
      "text/plain": [
       "VBox()"
      ]
     },
     "metadata": {},
     "output_type": "display_data"
    },
    {
     "data": {
      "application/vnd.jupyter.widget-view+json": {
       "model_id": "",
       "version_major": 2,
       "version_minor": 0
      },
      "text/plain": [
       "FloatProgress(value=0.0, bar_style='info', description='Progress:', layout=Layout(height='25px', width='50%'),…"
      ]
     },
     "metadata": {},
     "output_type": "display_data"
    }
   ],
   "source": [
    "def tweetPreprocessor(text):\n",
    "    p.set_options(p.OPT.URL, p.OPT.EMOJI, p.OPT.NUMBER, p.OPT.MENTION)\n",
    "    text = p.clean(text)\n",
    "    return text\n",
    "tweetPreprocessor_udf = udf(tweetPreprocessor, StringType())"
   ]
  },
  {
   "cell_type": "code",
   "execution_count": 158,
   "id": "c067e721",
   "metadata": {},
   "outputs": [
    {
     "data": {
      "application/vnd.jupyter.widget-view+json": {
       "model_id": "9d026081131141c38224cb668ce4dd4a",
       "version_major": 2,
       "version_minor": 0
      },
      "text/plain": [
       "VBox()"
      ]
     },
     "metadata": {},
     "output_type": "display_data"
    },
    {
     "data": {
      "application/vnd.jupyter.widget-view+json": {
       "model_id": "",
       "version_major": 2,
       "version_minor": 0
      },
      "text/plain": [
       "FloatProgress(value=0.0, bar_style='info', description='Progress:', layout=Layout(height='25px', width='50%'),…"
      ]
     },
     "metadata": {},
     "output_type": "display_data"
    }
   ],
   "source": [
    "def extractHashtag(text):\n",
    "    result = []\n",
    "    parse = p.parse(text)\n",
    "\n",
    "    if parse.hashtags == None:\n",
    "        return result\n",
    "    \n",
    "    for i in range(len(parse.hashtags)):\n",
    "        result.append(parse.hashtags[i].match[1:])\n",
    "    return result\n",
    "\n",
    "extractHashtag_udf = udf(extractHashtag, ArrayType(StringType()))"
   ]
  },
  {
   "cell_type": "code",
   "execution_count": 160,
   "id": "952abb5f",
   "metadata": {},
   "outputs": [
    {
     "data": {
      "application/vnd.jupyter.widget-view+json": {
       "model_id": "1013915f30534ca69108777646bafbf7",
       "version_major": 2,
       "version_minor": 0
      },
      "text/plain": [
       "VBox()"
      ]
     },
     "metadata": {},
     "output_type": "display_data"
    },
    {
     "data": {
      "application/vnd.jupyter.widget-view+json": {
       "model_id": "",
       "version_major": 2,
       "version_minor": 0
      },
      "text/plain": [
       "FloatProgress(value=0.0, bar_style='info', description='Progress:', layout=Layout(height='25px', width='50%'),…"
      ]
     },
     "metadata": {},
     "output_type": "display_data"
    }
   ],
   "source": [
    "df = df.withColumn('clean', tweetPreprocessor_udf('full_text'))"
   ]
  },
  {
   "cell_type": "code",
   "execution_count": 161,
   "id": "1126b78a",
   "metadata": {},
   "outputs": [
    {
     "data": {
      "application/vnd.jupyter.widget-view+json": {
       "model_id": "0f533d391d3440a1bfd2c6ecc0a9a14d",
       "version_major": 2,
       "version_minor": 0
      },
      "text/plain": [
       "VBox()"
      ]
     },
     "metadata": {},
     "output_type": "display_data"
    },
    {
     "data": {
      "application/vnd.jupyter.widget-view+json": {
       "model_id": "",
       "version_major": 2,
       "version_minor": 0
      },
      "text/plain": [
       "FloatProgress(value=0.0, bar_style='info', description='Progress:', layout=Layout(height='25px', width='50%'),…"
      ]
     },
     "metadata": {},
     "output_type": "display_data"
    }
   ],
   "source": [
    "# The nltk stopword won't download onto emr without some setup so it's just easier to copy and paste\n",
    "stopwords_list = ['i', 'me', 'my', 'myself', 'we', 'our', 'ours', 'ourselves', 'you', 'youre', 'youve', 'youll', 'youd', 'your', 'yours', 'yourself', 'yourselves', 'he', 'him', 'his', 'himself', 'she', 'shes', 'her', 'hers', 'herself', 'it', 'its', 'its', 'itself', 'they', 'them', 'their', 'theirs', 'themselves', 'what', 'which', 'who', 'whom', 'this', 'that', 'thatll', 'these', 'those', 'am', 'is', 'are', 'was', 'were', 'be', 'been', 'being', 'have', 'has', 'had', 'having', 'do', 'does', 'did', 'doing', 'a', 'an', 'the', 'and', 'but', 'if', 'or', 'because', 'as', 'until', 'while', 'of', 'at', 'by', 'for', 'with', 'about', 'against', 'between', 'into', 'through', 'during', 'before', 'after', 'above', 'below', 'to', 'from', 'up', 'down', 'in', 'out', 'on', 'off', 'over', 'under', 'again', 'further', 'then', 'once', 'here', 'there', 'when', 'where', 'why', 'how', 'all', 'any', 'both', 'each', 'few', 'more', 'most', 'other', 'some', 'such', 'no', 'nor', 'not', 'only', 'own', 'same', 'so', 'than', 'too', 'very', 's', 't', 'can', 'will', 'just', 'don', 'dont', 'should', 'shouldve', 'now', 'd', 'll', 'm', 'o', 're', 've', 'y', 'ain', 'aren', 'arent', 'couldn', 'couldnt', 'didn', 'didnt', 'doesn', 'doesnt', 'hadn', 'hadnt', 'hasn', 'hasnt', 'haven', 'havent', 'isn', 'isnt', 'ma', 'mightn', 'mightnt', 'mustn', 'mustnt', 'needn', 'neednt', 'shan', 'shant', 'shouldn', 'shouldnt', 'wasn', 'wasnt', 'weren', 'werent', 'won', 'wont', 'wouldn', 'wouldnt', 'like', 'hes', 'let', 'lot', 'ok', 'yes', 'u', 'im', 'y', 'am', 'ive', 'am', 'k']"
   ]
  },
  {
   "cell_type": "code",
   "execution_count": 162,
   "id": "86c8b8d5",
   "metadata": {},
   "outputs": [
    {
     "data": {
      "application/vnd.jupyter.widget-view+json": {
       "model_id": "1afc3cdbb06948d2af0e9b734e11d1b4",
       "version_major": 2,
       "version_minor": 0
      },
      "text/plain": [
       "VBox()"
      ]
     },
     "metadata": {},
     "output_type": "display_data"
    },
    {
     "data": {
      "application/vnd.jupyter.widget-view+json": {
       "model_id": "",
       "version_major": 2,
       "version_minor": 0
      },
      "text/plain": [
       "FloatProgress(value=0.0, bar_style='info', description='Progress:', layout=Layout(height='25px', width='50%'),…"
      ]
     },
     "metadata": {},
     "output_type": "display_data"
    },
    {
     "name": "stdout",
     "output_type": "stream",
     "text": [
      "lemma_antbnc download started this may take some time.\n",
      "Approximate size to download 907.6 KB\n",
      "[OK!]"
     ]
    }
   ],
   "source": [
    "documentAssembler = DocumentAssembler() \\\n",
    "    .setInputCol('clean') \\\n",
    "    .setOutputCol('document') \\\n",
    "    .setCleanupMode('shrink_full')\n",
    "\n",
    "tokenizer = Tokenizer() \\\n",
    "    .setInputCols(['document']) \\\n",
    "    .setOutputCol('token')\n",
    "\n",
    "normalizer = Normalizer() \\\n",
    "    .setInputCols(['token']) \\\n",
    "    .setOutputCol('normalized') \\\n",
    "    .setLowercase(True)\n",
    "\n",
    "stopwords_cleaner = StopWordsCleaner() \\\n",
    "    .setInputCols(['normalized']) \\\n",
    "    .setOutputCol('normalized_no_stop') \\\n",
    "    .setCaseSensitive(False) \\\n",
    "    .setStopWords(stopwords_list)\n",
    "\n",
    "lemmatizer = LemmatizerModel.pretrained() \\\n",
    "    .setInputCols(['normalized_no_stop']) \\\n",
    "    .setOutputCol('lemma')\n",
    "\n",
    "finisher = Finisher() \\\n",
    "     .setInputCols(['lemma']) \\\n",
    "     .setCleanAnnotations(True)"
   ]
  },
  {
   "cell_type": "code",
   "execution_count": 163,
   "id": "e0e5c029",
   "metadata": {},
   "outputs": [
    {
     "data": {
      "application/vnd.jupyter.widget-view+json": {
       "model_id": "d31f05ca388648a1bac158d9a4975286",
       "version_major": 2,
       "version_minor": 0
      },
      "text/plain": [
       "VBox()"
      ]
     },
     "metadata": {},
     "output_type": "display_data"
    },
    {
     "data": {
      "application/vnd.jupyter.widget-view+json": {
       "model_id": "",
       "version_major": 2,
       "version_minor": 0
      },
      "text/plain": [
       "FloatProgress(value=0.0, bar_style='info', description='Progress:', layout=Layout(height='25px', width='50%'),…"
      ]
     },
     "metadata": {},
     "output_type": "display_data"
    }
   ],
   "source": [
    "pipeline = Pipeline() \\\n",
    "     .setStages([\n",
    "           documentAssembler,\n",
    "           tokenizer,\n",
    "           normalizer,\n",
    "           stopwords_cleaner,\n",
    "           lemmatizer,\n",
    "           finisher\n",
    "     ])"
   ]
  },
  {
   "cell_type": "code",
   "execution_count": 164,
   "id": "a2ce24c7",
   "metadata": {},
   "outputs": [
    {
     "data": {
      "application/vnd.jupyter.widget-view+json": {
       "model_id": "a7251269381b49cfa90b20719615703c",
       "version_major": 2,
       "version_minor": 0
      },
      "text/plain": [
       "VBox()"
      ]
     },
     "metadata": {},
     "output_type": "display_data"
    },
    {
     "data": {
      "application/vnd.jupyter.widget-view+json": {
       "model_id": "",
       "version_major": 2,
       "version_minor": 0
      },
      "text/plain": [
       "FloatProgress(value=0.0, bar_style='info', description='Progress:', layout=Layout(height='25px', width='50%'),…"
      ]
     },
     "metadata": {},
     "output_type": "display_data"
    }
   ],
   "source": [
    "df = pipeline.fit(df).transform(df)\n",
    "df = df.drop('clean').withColumnRenamed('finished_lemma', 'clean_text')"
   ]
  },
  {
   "cell_type": "code",
   "execution_count": 165,
   "id": "c6c8826a",
   "metadata": {},
   "outputs": [
    {
     "data": {
      "application/vnd.jupyter.widget-view+json": {
       "model_id": "dafeec2b7395412ea51e390033e6546d",
       "version_major": 2,
       "version_minor": 0
      },
      "text/plain": [
       "VBox()"
      ]
     },
     "metadata": {},
     "output_type": "display_data"
    },
    {
     "data": {
      "application/vnd.jupyter.widget-view+json": {
       "model_id": "",
       "version_major": 2,
       "version_minor": 0
      },
      "text/plain": [
       "FloatProgress(value=0.0, bar_style='info', description='Progress:', layout=Layout(height='25px', width='50%'),…"
      ]
     },
     "metadata": {},
     "output_type": "display_data"
    },
    {
     "name": "stdout",
     "output_type": "stream",
     "text": [
      "+-------------------+-------------------+--------------------+--------------------+\n",
      "|         created_at|                 id|           full_text|          clean_text|\n",
      "+-------------------+-------------------+--------------------+--------------------+\n",
      "|2020-10-21 05:50:49|1318791833992929282|@SomeWelder @Vick...|[hasty, cowboy, f...|\n",
      "|2020-10-26 11:05:00|1320682836987416576|Biden was pretty ...|[biden, pretty, m...|\n",
      "|2020-10-06 05:42:24|1313353897508048903|Biden says people...|[biden, say, peop...|\n",
      "|2020-10-22 23:21:17|1319418580476317698|@peterdaou And Bi...|[biden, want, abo...|\n",
      "|2020-10-14 12:26:22|1316354661662810112|@KagcaravanLisa H...|[always, say, itb...|\n",
      "+-------------------+-------------------+--------------------+--------------------+\n",
      "only showing top 5 rows"
     ]
    }
   ],
   "source": [
    "df.show(5)"
   ]
  },
  {
   "cell_type": "code",
   "execution_count": 166,
   "id": "8fdbb25d",
   "metadata": {},
   "outputs": [
    {
     "data": {
      "application/vnd.jupyter.widget-view+json": {
       "model_id": "c9db22fc5f1945e9b28478b7649eb77b",
       "version_major": 2,
       "version_minor": 0
      },
      "text/plain": [
       "VBox()"
      ]
     },
     "metadata": {},
     "output_type": "display_data"
    },
    {
     "data": {
      "application/vnd.jupyter.widget-view+json": {
       "model_id": "",
       "version_major": 2,
       "version_minor": 0
      },
      "text/plain": [
       "FloatProgress(value=0.0, bar_style='info', description='Progress:', layout=Layout(height='25px', width='50%'),…"
      ]
     },
     "metadata": {},
     "output_type": "display_data"
    },
    {
     "name": "stdout",
     "output_type": "stream",
     "text": [
      "+-------------------+-------------------+--------------------+--------------------+\n",
      "|         created_at|                 id|           full_text|          clean_text|\n",
      "+-------------------+-------------------+--------------------+--------------------+\n",
      "|2020-10-21 05:50:49|1318791833992929282|@SomeWelder @Vick...|[hasty, cowboy, f...|\n",
      "|2020-10-26 11:05:00|1320682836987416576|Biden was pretty ...|[biden, pretty, m...|\n",
      "|2020-10-06 05:42:24|1313353897508048903|Biden says people...|[biden, say, peop...|\n",
      "|2020-10-14 12:26:22|1316354661662810112|@KagcaravanLisa H...|[always, say, itb...|\n",
      "|2020-10-02 07:41:04|1311934210027016192|@PauleyP @DebraMe...|[we, forget, dont...|\n",
      "|2020-10-18 08:51:15|1317750078442975237|This. Is great ne...|[great, newsi, en...|\n",
      "|2020-10-07 00:52:37|1313643358930296832|@realDonaldTrump ...|[hell, go, fbi, c...|\n",
      "|2020-10-30 06:38:13|1322065253245480961|@FluffyTrader The...|[election, uncert...|\n",
      "|2020-10-19 13:28:10|1318182154350825478|@politvidchannel ...|[that, bad, thing...|\n",
      "|2020-10-13 04:35:41|1315873821958770689|@NEWMERICA92 @Joe...|[kink, friendly, ...|\n",
      "|2020-10-12 02:28:27|1315479415451799552|@NickRiccardi @Se...|[really, like, in...|\n",
      "|2020-10-19 08:33:40|1318108039988285441|EVERYBODY SHOULD ...|[everybody, tweet...|\n",
      "|2020-10-29 17:15:41|1321863289316405248|@ThankfulThinker ...|[dude, find, lega...|\n",
      "|2020-10-26 16:30:39|1320764792450277379|Another poll toda...|[another, poll, t...|\n",
      "|2020-10-29 17:54:34|1321873073822441473|If Biden wins, it...|[biden, win, forg...|\n",
      "|2020-10-22 23:01:03|1319413488767266817|@GOPAmericanMom W...|[well, say, could...|\n",
      "|2020-10-27 20:26:23|1321186504841007115|@HillaryClinton @...|[media, block, bi...|\n",
      "|2020-10-12 22:34:36|1315782952878444544|Court packing, sh...|[court, pack, bid...|\n",
      "|2020-10-18 08:06:30|1317738816309002240|.@BarackObama pla...|[plan, hit, campa...|\n",
      "|2020-10-19 07:43:06|1318095311886184449|I just don't 'car...|[care, conspiracy...|\n",
      "+-------------------+-------------------+--------------------+--------------------+\n",
      "only showing top 20 rows"
     ]
    }
   ],
   "source": [
    "df = df.where(size(col('clean_text')) > 5)\n",
    "df.show()"
   ]
  },
  {
   "cell_type": "code",
   "execution_count": 167,
   "id": "33976a0e",
   "metadata": {},
   "outputs": [
    {
     "data": {
      "application/vnd.jupyter.widget-view+json": {
       "model_id": "7762d2f2ab5c4c33aa489857b969e712",
       "version_major": 2,
       "version_minor": 0
      },
      "text/plain": [
       "VBox()"
      ]
     },
     "metadata": {},
     "output_type": "display_data"
    },
    {
     "data": {
      "application/vnd.jupyter.widget-view+json": {
       "model_id": "",
       "version_major": 2,
       "version_minor": 0
      },
      "text/plain": [
       "FloatProgress(value=0.0, bar_style='info', description='Progress:', layout=Layout(height='25px', width='50%'),…"
      ]
     },
     "metadata": {},
     "output_type": "display_data"
    }
   ],
   "source": [
    "from nltk.sentiment.vader import SentimentIntensityAnalyzer"
   ]
  },
  {
   "cell_type": "code",
   "execution_count": 168,
   "id": "a2f7c189",
   "metadata": {},
   "outputs": [
    {
     "data": {
      "application/vnd.jupyter.widget-view+json": {
       "model_id": "710d908349a24f1a8c5d8b8db6fd74a1",
       "version_major": 2,
       "version_minor": 0
      },
      "text/plain": [
       "VBox()"
      ]
     },
     "metadata": {},
     "output_type": "display_data"
    },
    {
     "data": {
      "application/vnd.jupyter.widget-view+json": {
       "model_id": "",
       "version_major": 2,
       "version_minor": 0
      },
      "text/plain": [
       "FloatProgress(value=0.0, bar_style='info', description='Progress:', layout=Layout(height='25px', width='50%'),…"
      ]
     },
     "metadata": {},
     "output_type": "display_data"
    }
   ],
   "source": [
    "sentiment_schema = StructType([\n",
    "    StructField('pos', FloatType(), False),\n",
    "    StructField('neg', FloatType(), False),\n",
    "    StructField('neu', FloatType(), False)\n",
    "])\n",
    "\n",
    "def sentimentAnalysis(bow_text):\n",
    "    text = ' '.join(bow_text)\n",
    "    scores = SentimentIntensityAnalyzer().polarity_scores(text)\n",
    "    return (scores['pos'], scores['neg'], scores['neu'])\n",
    "\n",
    "sentimentAnalysis_udf = udf(sentimentAnalysis, sentiment_schema)"
   ]
  },
  {
   "cell_type": "code",
   "execution_count": 169,
   "id": "b98ee2b4",
   "metadata": {},
   "outputs": [
    {
     "data": {
      "application/vnd.jupyter.widget-view+json": {
       "model_id": "d14425e5bdb248dc9843930387807d5b",
       "version_major": 2,
       "version_minor": 0
      },
      "text/plain": [
       "VBox()"
      ]
     },
     "metadata": {},
     "output_type": "display_data"
    },
    {
     "data": {
      "application/vnd.jupyter.widget-view+json": {
       "model_id": "",
       "version_major": 2,
       "version_minor": 0
      },
      "text/plain": [
       "FloatProgress(value=0.0, bar_style='info', description='Progress:', layout=Layout(height='25px', width='50%'),…"
      ]
     },
     "metadata": {},
     "output_type": "display_data"
    }
   ],
   "source": [
    "df = df.withColumn('sentiment', sentimentAnalysis_udf('clean_text'))"
   ]
  },
  {
   "cell_type": "code",
   "execution_count": 170,
   "id": "ddd17a51",
   "metadata": {},
   "outputs": [
    {
     "data": {
      "application/vnd.jupyter.widget-view+json": {
       "model_id": "ec71eb78c28c426f8a680f54335c1821",
       "version_major": 2,
       "version_minor": 0
      },
      "text/plain": [
       "VBox()"
      ]
     },
     "metadata": {},
     "output_type": "display_data"
    },
    {
     "data": {
      "application/vnd.jupyter.widget-view+json": {
       "model_id": "",
       "version_major": 2,
       "version_minor": 0
      },
      "text/plain": [
       "FloatProgress(value=0.0, bar_style='info', description='Progress:', layout=Layout(height='25px', width='50%'),…"
      ]
     },
     "metadata": {},
     "output_type": "display_data"
    }
   ],
   "source": [
    "def classifySentiment(scores):\n",
    "    pos = scores[0]\n",
    "    neg = scores[1]\n",
    "    if pos > neg:\n",
    "        return 1\n",
    "    elif pos < neg:\n",
    "        return -1\n",
    "    else:\n",
    "        return 0\n",
    "\n",
    "classifySentiment_udf = udf(classifySentiment, IntegerType())"
   ]
  },
  {
   "cell_type": "code",
   "execution_count": 171,
   "id": "b311e932",
   "metadata": {},
   "outputs": [
    {
     "data": {
      "application/vnd.jupyter.widget-view+json": {
       "model_id": "1d3c1560ef934d73a863e9f7b8bbd0dd",
       "version_major": 2,
       "version_minor": 0
      },
      "text/plain": [
       "VBox()"
      ]
     },
     "metadata": {},
     "output_type": "display_data"
    },
    {
     "data": {
      "application/vnd.jupyter.widget-view+json": {
       "model_id": "",
       "version_major": 2,
       "version_minor": 0
      },
      "text/plain": [
       "FloatProgress(value=0.0, bar_style='info', description='Progress:', layout=Layout(height='25px', width='50%'),…"
      ]
     },
     "metadata": {},
     "output_type": "display_data"
    },
    {
     "name": "stdout",
     "output_type": "stream",
     "text": [
      "4625"
     ]
    }
   ],
   "source": [
    "df = df.withColumn('sentiment_class', classifySentiment_udf('sentiment'))\n",
    "df.count()"
   ]
  },
  {
   "cell_type": "code",
   "execution_count": 172,
   "id": "7455e7a1",
   "metadata": {},
   "outputs": [
    {
     "data": {
      "application/vnd.jupyter.widget-view+json": {
       "model_id": "ad76e00099cb465db7abe9d758fe09b6",
       "version_major": 2,
       "version_minor": 0
      },
      "text/plain": [
       "VBox()"
      ]
     },
     "metadata": {},
     "output_type": "display_data"
    },
    {
     "data": {
      "application/vnd.jupyter.widget-view+json": {
       "model_id": "",
       "version_major": 2,
       "version_minor": 0
      },
      "text/plain": [
       "FloatProgress(value=0.0, bar_style='info', description='Progress:', layout=Layout(height='25px', width='50%'),…"
      ]
     },
     "metadata": {},
     "output_type": "display_data"
    },
    {
     "name": "stdout",
     "output_type": "stream",
     "text": [
      "1962"
     ]
    }
   ],
   "source": [
    "positive = df.where(col('sentiment_class') == 1)\n",
    "positive.count()"
   ]
  },
  {
   "cell_type": "code",
   "execution_count": 173,
   "id": "1082b611",
   "metadata": {},
   "outputs": [
    {
     "data": {
      "application/vnd.jupyter.widget-view+json": {
       "model_id": "9286f8d9593f4db7a03570c6ee8a0b09",
       "version_major": 2,
       "version_minor": 0
      },
      "text/plain": [
       "VBox()"
      ]
     },
     "metadata": {},
     "output_type": "display_data"
    },
    {
     "data": {
      "application/vnd.jupyter.widget-view+json": {
       "model_id": "",
       "version_major": 2,
       "version_minor": 0
      },
      "text/plain": [
       "FloatProgress(value=0.0, bar_style='info', description='Progress:', layout=Layout(height='25px', width='50%'),…"
      ]
     },
     "metadata": {},
     "output_type": "display_data"
    },
    {
     "name": "stdout",
     "output_type": "stream",
     "text": [
      "1930"
     ]
    }
   ],
   "source": [
    "negative = df.where(col('sentiment_class') == -1)\n",
    "negative.count()"
   ]
  },
  {
   "cell_type": "code",
   "execution_count": null,
   "id": "7409eba9",
   "metadata": {},
   "outputs": [
    {
     "data": {
      "application/vnd.jupyter.widget-view+json": {
       "model_id": "51cc0eb9ec284a14a06b3c71d8bf4546",
       "version_major": 2,
       "version_minor": 0
      },
      "text/plain": [
       "VBox()"
      ]
     },
     "metadata": {},
     "output_type": "display_data"
    },
    {
     "data": {
      "application/vnd.jupyter.widget-view+json": {
       "model_id": "118e0c83aae94c5a931c7ab6bd88a3de",
       "version_major": 2,
       "version_minor": 0
      },
      "text/plain": [
       "FloatProgress(value=0.0, bar_style='info', description='Progress:', layout=Layout(height='25px', width='50%'),…"
      ]
     },
     "metadata": {},
     "output_type": "display_data"
    }
   ],
   "source": [
    "hdfs_write = ''\n",
    "positive.write.mode('overwrite').parquet(hdfs_write)"
   ]
  }
 ],
 "metadata": {
  "kernelspec": {
   "display_name": "PySpark",
   "language": "",
   "name": "pysparkkernel"
  },
  "language_info": {
   "codemirror_mode": {
    "name": "python",
    "version": 3
   },
   "mimetype": "text/x-python",
   "name": "pyspark",
   "pygments_lexer": "python3"
  },
  "metadata": {
   "interpreter": {
    "hash": "4ef8975e22676df32c930aae12a41200d93f0ab6e5e4fbe73ecc9ad618aa940e"
   }
  }
 },
 "nbformat": 4,
 "nbformat_minor": 5
}